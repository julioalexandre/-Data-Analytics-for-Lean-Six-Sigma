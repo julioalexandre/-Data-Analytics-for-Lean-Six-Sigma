{
 "cells": [
  {
   "cell_type": "code",
   "execution_count": 1,
   "metadata": {},
   "outputs": [
    {
     "name": "stdout",
     "output_type": "stream",
     "text": [
      "Populating the interactive namespace from numpy and matplotlib\n"
     ]
    }
   ],
   "source": [
    "import pandas as pd\n",
    "%matplotlib inline\n",
    "%pylab inline\n",
    "import matplotlib.pyplot as plt\n",
    "import seaborn as sns\n",
    "import random\n",
    "plt.style.use('ggplot')"
   ]
  },
  {
   "cell_type": "code",
   "execution_count": 2,
   "metadata": {},
   "outputs": [],
   "source": [
    "#investigation\n",
    "data_reclaims = pd.read_csv('reclaims.csv',sep=';')"
   ]
  },
  {
   "cell_type": "code",
   "execution_count": 3,
   "metadata": {},
   "outputs": [],
   "source": [
    "df6 = data_reclaims"
   ]
  },
  {
   "cell_type": "code",
   "execution_count": 4,
   "metadata": {},
   "outputs": [
    {
     "data": {
      "text/html": [
       "<div>\n",
       "<style scoped>\n",
       "    .dataframe tbody tr th:only-of-type {\n",
       "        vertical-align: middle;\n",
       "    }\n",
       "\n",
       "    .dataframe tbody tr th {\n",
       "        vertical-align: top;\n",
       "    }\n",
       "\n",
       "    .dataframe thead th {\n",
       "        text-align: right;\n",
       "    }\n",
       "</style>\n",
       "<table border=\"1\" class=\"dataframe\">\n",
       "  <thead>\n",
       "    <tr style=\"text-align: right;\">\n",
       "      <th></th>\n",
       "      <th>Reclaim</th>\n",
       "      <th>Person</th>\n",
       "      <th>Processing time</th>\n",
       "    </tr>\n",
       "  </thead>\n",
       "  <tbody>\n",
       "    <tr>\n",
       "      <th>0</th>\n",
       "      <td>Account closing</td>\n",
       "      <td>Jan sr.</td>\n",
       "      <td>24,89</td>\n",
       "    </tr>\n",
       "    <tr>\n",
       "      <th>1</th>\n",
       "      <td>IBAN</td>\n",
       "      <td>Marcel</td>\n",
       "      <td>27,36</td>\n",
       "    </tr>\n",
       "    <tr>\n",
       "      <th>2</th>\n",
       "      <td>Status info</td>\n",
       "      <td>Marcel</td>\n",
       "      <td>2,65</td>\n",
       "    </tr>\n",
       "    <tr>\n",
       "      <th>3</th>\n",
       "      <td>Matching</td>\n",
       "      <td>Margriet</td>\n",
       "      <td>23,48</td>\n",
       "    </tr>\n",
       "    <tr>\n",
       "      <th>4</th>\n",
       "      <td>Billing</td>\n",
       "      <td>Kees</td>\n",
       "      <td>35,92</td>\n",
       "    </tr>\n",
       "    <tr>\n",
       "      <th>...</th>\n",
       "      <td>...</td>\n",
       "      <td>...</td>\n",
       "      <td>...</td>\n",
       "    </tr>\n",
       "    <tr>\n",
       "      <th>117</th>\n",
       "      <td>Status info</td>\n",
       "      <td>Henk</td>\n",
       "      <td>11,76</td>\n",
       "    </tr>\n",
       "    <tr>\n",
       "      <th>118</th>\n",
       "      <td>Matching</td>\n",
       "      <td>Jan sr.</td>\n",
       "      <td>28,84</td>\n",
       "    </tr>\n",
       "    <tr>\n",
       "      <th>119</th>\n",
       "      <td>Status info</td>\n",
       "      <td>Margriet</td>\n",
       "      <td>32,61</td>\n",
       "    </tr>\n",
       "    <tr>\n",
       "      <th>120</th>\n",
       "      <td>Status info</td>\n",
       "      <td>Kees</td>\n",
       "      <td>10,09</td>\n",
       "    </tr>\n",
       "    <tr>\n",
       "      <th>121</th>\n",
       "      <td>EB Contract</td>\n",
       "      <td>Margriet</td>\n",
       "      <td>43,00</td>\n",
       "    </tr>\n",
       "  </tbody>\n",
       "</table>\n",
       "<p>122 rows × 3 columns</p>\n",
       "</div>"
      ],
      "text/plain": [
       "             Reclaim    Person Processing time\n",
       "0    Account closing   Jan sr.           24,89\n",
       "1               IBAN    Marcel           27,36\n",
       "2        Status info    Marcel            2,65\n",
       "3           Matching  Margriet           23,48\n",
       "4            Billing      Kees           35,92\n",
       "..               ...       ...             ...\n",
       "117      Status info      Henk           11,76\n",
       "118         Matching   Jan sr.           28,84\n",
       "119      Status info  Margriet           32,61\n",
       "120      Status info      Kees           10,09\n",
       "121      EB Contract  Margriet           43,00\n",
       "\n",
       "[122 rows x 3 columns]"
      ]
     },
     "execution_count": 4,
     "metadata": {},
     "output_type": "execute_result"
    }
   ],
   "source": [
    "df6"
   ]
  },
  {
   "cell_type": "code",
   "execution_count": 5,
   "metadata": {},
   "outputs": [],
   "source": [
    "df6['Processing time'] = df6['Processing time'].str.replace(',', '.')\n",
    "df6['Processing time'] = df6['Processing time'].astype(float)"
   ]
  },
  {
   "cell_type": "code",
   "execution_count": 6,
   "metadata": {},
   "outputs": [
    {
     "data": {
      "text/html": [
       "<div>\n",
       "<style scoped>\n",
       "    .dataframe tbody tr th:only-of-type {\n",
       "        vertical-align: middle;\n",
       "    }\n",
       "\n",
       "    .dataframe tbody tr th {\n",
       "        vertical-align: top;\n",
       "    }\n",
       "\n",
       "    .dataframe thead th {\n",
       "        text-align: right;\n",
       "    }\n",
       "</style>\n",
       "<table border=\"1\" class=\"dataframe\">\n",
       "  <thead>\n",
       "    <tr style=\"text-align: right;\">\n",
       "      <th></th>\n",
       "      <th>Processing time</th>\n",
       "    </tr>\n",
       "  </thead>\n",
       "  <tbody>\n",
       "    <tr>\n",
       "      <th>count</th>\n",
       "      <td>122.000000</td>\n",
       "    </tr>\n",
       "    <tr>\n",
       "      <th>mean</th>\n",
       "      <td>24.835164</td>\n",
       "    </tr>\n",
       "    <tr>\n",
       "      <th>std</th>\n",
       "      <td>13.876383</td>\n",
       "    </tr>\n",
       "    <tr>\n",
       "      <th>min</th>\n",
       "      <td>0.050000</td>\n",
       "    </tr>\n",
       "    <tr>\n",
       "      <th>25%</th>\n",
       "      <td>11.610000</td>\n",
       "    </tr>\n",
       "    <tr>\n",
       "      <th>50%</th>\n",
       "      <td>26.770000</td>\n",
       "    </tr>\n",
       "    <tr>\n",
       "      <th>75%</th>\n",
       "      <td>32.670000</td>\n",
       "    </tr>\n",
       "    <tr>\n",
       "      <th>max</th>\n",
       "      <td>58.530000</td>\n",
       "    </tr>\n",
       "  </tbody>\n",
       "</table>\n",
       "</div>"
      ],
      "text/plain": [
       "       Processing time\n",
       "count       122.000000\n",
       "mean         24.835164\n",
       "std          13.876383\n",
       "min           0.050000\n",
       "25%          11.610000\n",
       "50%          26.770000\n",
       "75%          32.670000\n",
       "max          58.530000"
      ]
     },
     "execution_count": 6,
     "metadata": {},
     "output_type": "execute_result"
    }
   ],
   "source": [
    "df6.describe()"
   ]
  },
  {
   "cell_type": "code",
   "execution_count": 7,
   "metadata": {},
   "outputs": [
    {
     "name": "stdout",
     "output_type": "stream",
     "text": [
      "<class 'pandas.core.frame.DataFrame'>\n",
      "RangeIndex: 122 entries, 0 to 121\n",
      "Data columns (total 3 columns):\n",
      " #   Column           Non-Null Count  Dtype  \n",
      "---  ------           --------------  -----  \n",
      " 0   Reclaim          122 non-null    object \n",
      " 1   Person           122 non-null    object \n",
      " 2   Processing time  122 non-null    float64\n",
      "dtypes: float64(1), object(2)\n",
      "memory usage: 3.0+ KB\n"
     ]
    }
   ],
   "source": [
    "df6.info()"
   ]
  },
  {
   "cell_type": "code",
   "execution_count": 8,
   "metadata": {},
   "outputs": [
    {
     "data": {
      "image/png": "[encoded data removed]",
      "text/plain": [
       "<Figure size 720x576 with 1 Axes>"
      ]
     },
     "metadata": {},
     "output_type": "display_data"
    }
   ],
   "source": [
    "#gráfico de pizza sem legenda\n",
    "df6[\"Reclaim\"].value_counts().plot.pie(figsize=(10,8))\n",
    "plt.show()"
   ]
  },
  {
   "cell_type": "code",
   "execution_count": 9,
   "metadata": {},
   "outputs": [
    {
     "data": {
      "image/png": "[encoded data removed]",
      "text/plain": [
       "<Figure size 720x720 with 1 Axes>"
      ]
     },
     "metadata": {},
     "output_type": "display_data"
    }
   ],
   "source": [
    "#gráfico de pizza com legenda\n",
    "df6.Reclaim.value_counts().plot(kind='pie', autopct='%.2f%%', figsize=(10, 10))\n",
    "plt.axis('equal')  # Para deixar o gráfico redondo\n",
    "plt.show()"
   ]
  },
  {
   "cell_type": "code",
   "execution_count": 10,
   "metadata": {},
   "outputs": [
    {
     "data": {
      "image/png": "[encoded data removed]",
      "text/plain": [
       "<Figure size 576x576 with 1 Axes>"
      ]
     },
     "metadata": {},
     "output_type": "display_data"
    }
   ],
   "source": [
    "#gráfico de pizza com legenda\n",
    "df6.Reclaim.value_counts().plot(kind='bar', figsize=(8, 8))\n",
    "#plt.axis('equal')  # Para deixar o gráfico redondo\n",
    "plt.show()"
   ]
  },
  {
   "cell_type": "code",
   "execution_count": 11,
   "metadata": {},
   "outputs": [
    {
     "name": "stderr",
     "output_type": "stream",
     "text": [
      "C:\\ProgramData\\Anaconda3\\lib\\site-packages\\seaborn\\categorical.py:3666: UserWarning: The `factorplot` function has been renamed to `catplot`. The original name will be removed in a future release. Please update your code. Note that the default `kind` in `factorplot` (`'point'`) has changed `'strip'` in `catplot`.\n",
      "  warnings.warn(msg)\n"
     ]
    },
    {
     "data": {
      "image/png": "[encoded data removed]",
      "text/plain": [
       "<Figure size 474.75x360 with 1 Axes>"
      ]
     },
     "metadata": {},
     "output_type": "display_data"
    }
   ],
   "source": [
    "# Distribuição da classe dividida por pessoa.\n",
    "sns.factorplot('Person', data=df6, hue='Reclaim', kind='count')\n",
    "plt.show()"
   ]
  },
  {
   "cell_type": "code",
   "execution_count": 12,
   "metadata": {},
   "outputs": [
    {
     "data": {
      "text/plain": [
       "Matching           30\n",
       "Status info        25\n",
       "Billing            18\n",
       "Recalls            13\n",
       "IBAN               13\n",
       "Stop payment       10\n",
       "EB Contract         7\n",
       "Account closing     6\n",
       "Name: Reclaim, dtype: int64"
      ]
     },
     "execution_count": 12,
     "metadata": {},
     "output_type": "execute_result"
    }
   ],
   "source": [
    "df6.Reclaim.value_counts()"
   ]
  },
  {
   "cell_type": "code",
   "execution_count": 13,
   "metadata": {},
   "outputs": [
    {
     "data": {
      "text/html": [
       "<div>\n",
       "<style scoped>\n",
       "    .dataframe tbody tr th:only-of-type {\n",
       "        vertical-align: middle;\n",
       "    }\n",
       "\n",
       "    .dataframe tbody tr th {\n",
       "        vertical-align: top;\n",
       "    }\n",
       "\n",
       "    .dataframe thead th {\n",
       "        text-align: right;\n",
       "    }\n",
       "</style>\n",
       "<table border=\"1\" class=\"dataframe\">\n",
       "  <thead>\n",
       "    <tr style=\"text-align: right;\">\n",
       "      <th>Person</th>\n",
       "      <th>Henk</th>\n",
       "      <th>Jan jr.</th>\n",
       "      <th>Jan sr.</th>\n",
       "      <th>Karel</th>\n",
       "      <th>Kees</th>\n",
       "      <th>Marcel</th>\n",
       "      <th>Margriet</th>\n",
       "      <th>All</th>\n",
       "    </tr>\n",
       "    <tr>\n",
       "      <th>Reclaim</th>\n",
       "      <th></th>\n",
       "      <th></th>\n",
       "      <th></th>\n",
       "      <th></th>\n",
       "      <th></th>\n",
       "      <th></th>\n",
       "      <th></th>\n",
       "      <th></th>\n",
       "    </tr>\n",
       "  </thead>\n",
       "  <tbody>\n",
       "    <tr>\n",
       "      <th>Account closing</th>\n",
       "      <td>0</td>\n",
       "      <td>0</td>\n",
       "      <td>3</td>\n",
       "      <td>1</td>\n",
       "      <td>0</td>\n",
       "      <td>0</td>\n",
       "      <td>2</td>\n",
       "      <td>6</td>\n",
       "    </tr>\n",
       "    <tr>\n",
       "      <th>Billing</th>\n",
       "      <td>6</td>\n",
       "      <td>2</td>\n",
       "      <td>1</td>\n",
       "      <td>4</td>\n",
       "      <td>2</td>\n",
       "      <td>2</td>\n",
       "      <td>1</td>\n",
       "      <td>18</td>\n",
       "    </tr>\n",
       "    <tr>\n",
       "      <th>EB Contract</th>\n",
       "      <td>0</td>\n",
       "      <td>0</td>\n",
       "      <td>1</td>\n",
       "      <td>1</td>\n",
       "      <td>1</td>\n",
       "      <td>2</td>\n",
       "      <td>2</td>\n",
       "      <td>7</td>\n",
       "    </tr>\n",
       "    <tr>\n",
       "      <th>IBAN</th>\n",
       "      <td>0</td>\n",
       "      <td>3</td>\n",
       "      <td>1</td>\n",
       "      <td>2</td>\n",
       "      <td>4</td>\n",
       "      <td>2</td>\n",
       "      <td>1</td>\n",
       "      <td>13</td>\n",
       "    </tr>\n",
       "    <tr>\n",
       "      <th>Matching</th>\n",
       "      <td>4</td>\n",
       "      <td>6</td>\n",
       "      <td>3</td>\n",
       "      <td>2</td>\n",
       "      <td>4</td>\n",
       "      <td>6</td>\n",
       "      <td>5</td>\n",
       "      <td>30</td>\n",
       "    </tr>\n",
       "    <tr>\n",
       "      <th>Recalls</th>\n",
       "      <td>2</td>\n",
       "      <td>1</td>\n",
       "      <td>1</td>\n",
       "      <td>2</td>\n",
       "      <td>2</td>\n",
       "      <td>1</td>\n",
       "      <td>4</td>\n",
       "      <td>13</td>\n",
       "    </tr>\n",
       "    <tr>\n",
       "      <th>Status info</th>\n",
       "      <td>2</td>\n",
       "      <td>2</td>\n",
       "      <td>4</td>\n",
       "      <td>2</td>\n",
       "      <td>1</td>\n",
       "      <td>7</td>\n",
       "      <td>7</td>\n",
       "      <td>25</td>\n",
       "    </tr>\n",
       "    <tr>\n",
       "      <th>Stop payment</th>\n",
       "      <td>3</td>\n",
       "      <td>3</td>\n",
       "      <td>0</td>\n",
       "      <td>1</td>\n",
       "      <td>1</td>\n",
       "      <td>2</td>\n",
       "      <td>0</td>\n",
       "      <td>10</td>\n",
       "    </tr>\n",
       "    <tr>\n",
       "      <th>All</th>\n",
       "      <td>17</td>\n",
       "      <td>17</td>\n",
       "      <td>14</td>\n",
       "      <td>15</td>\n",
       "      <td>15</td>\n",
       "      <td>22</td>\n",
       "      <td>22</td>\n",
       "      <td>122</td>\n",
       "    </tr>\n",
       "  </tbody>\n",
       "</table>\n",
       "</div>"
      ],
      "text/plain": [
       "Person           Henk  Jan jr.  Jan sr.  Karel  Kees  Marcel  Margriet  All\n",
       "Reclaim                                                                    \n",
       "Account closing     0        0        3      1     0       0         2    6\n",
       "Billing             6        2        1      4     2       2         1   18\n",
       "EB Contract         0        0        1      1     1       2         2    7\n",
       "IBAN                0        3        1      2     4       2         1   13\n",
       "Matching            4        6        3      2     4       6         5   30\n",
       "Recalls             2        1        1      2     2       1         4   13\n",
       "Status info         2        2        4      2     1       7         7   25\n",
       "Stop payment        3        3        0      1     1       2         0   10\n",
       "All                17       17       14     15    15      22        22  122"
      ]
     },
     "execution_count": 13,
     "metadata": {},
     "output_type": "execute_result"
    }
   ],
   "source": [
    "pd.crosstab(df6[\"Reclaim\"],df6[\"Person\"],margins=True)\n"
   ]
  },
  {
   "cell_type": "code",
   "execution_count": 14,
   "metadata": {},
   "outputs": [
    {
     "data": {
      "text/html": [
       "<div>\n",
       "<style scoped>\n",
       "    .dataframe tbody tr th:only-of-type {\n",
       "        vertical-align: middle;\n",
       "    }\n",
       "\n",
       "    .dataframe tbody tr th {\n",
       "        vertical-align: top;\n",
       "    }\n",
       "\n",
       "    .dataframe thead th {\n",
       "        text-align: right;\n",
       "    }\n",
       "</style>\n",
       "<table border=\"1\" class=\"dataframe\">\n",
       "  <thead>\n",
       "    <tr style=\"text-align: right;\">\n",
       "      <th>Person</th>\n",
       "      <th>Henk</th>\n",
       "      <th>Jan jr.</th>\n",
       "      <th>Jan sr.</th>\n",
       "      <th>Karel</th>\n",
       "      <th>Kees</th>\n",
       "      <th>Marcel</th>\n",
       "      <th>Margriet</th>\n",
       "    </tr>\n",
       "    <tr>\n",
       "      <th>Reclaim</th>\n",
       "      <th></th>\n",
       "      <th></th>\n",
       "      <th></th>\n",
       "      <th></th>\n",
       "      <th></th>\n",
       "      <th></th>\n",
       "      <th></th>\n",
       "    </tr>\n",
       "  </thead>\n",
       "  <tbody>\n",
       "    <tr>\n",
       "      <th>Account closing</th>\n",
       "      <td>0.000000</td>\n",
       "      <td>0.000000</td>\n",
       "      <td>0.500000</td>\n",
       "      <td>0.166667</td>\n",
       "      <td>0.000000</td>\n",
       "      <td>0.000000</td>\n",
       "      <td>0.333333</td>\n",
       "    </tr>\n",
       "    <tr>\n",
       "      <th>Billing</th>\n",
       "      <td>0.333333</td>\n",
       "      <td>0.111111</td>\n",
       "      <td>0.055556</td>\n",
       "      <td>0.222222</td>\n",
       "      <td>0.111111</td>\n",
       "      <td>0.111111</td>\n",
       "      <td>0.055556</td>\n",
       "    </tr>\n",
       "    <tr>\n",
       "      <th>EB Contract</th>\n",
       "      <td>0.000000</td>\n",
       "      <td>0.000000</td>\n",
       "      <td>0.142857</td>\n",
       "      <td>0.142857</td>\n",
       "      <td>0.142857</td>\n",
       "      <td>0.285714</td>\n",
       "      <td>0.285714</td>\n",
       "    </tr>\n",
       "    <tr>\n",
       "      <th>IBAN</th>\n",
       "      <td>0.000000</td>\n",
       "      <td>0.230769</td>\n",
       "      <td>0.076923</td>\n",
       "      <td>0.153846</td>\n",
       "      <td>0.307692</td>\n",
       "      <td>0.153846</td>\n",
       "      <td>0.076923</td>\n",
       "    </tr>\n",
       "    <tr>\n",
       "      <th>Matching</th>\n",
       "      <td>0.133333</td>\n",
       "      <td>0.200000</td>\n",
       "      <td>0.100000</td>\n",
       "      <td>0.066667</td>\n",
       "      <td>0.133333</td>\n",
       "      <td>0.200000</td>\n",
       "      <td>0.166667</td>\n",
       "    </tr>\n",
       "    <tr>\n",
       "      <th>Recalls</th>\n",
       "      <td>0.153846</td>\n",
       "      <td>0.076923</td>\n",
       "      <td>0.076923</td>\n",
       "      <td>0.153846</td>\n",
       "      <td>0.153846</td>\n",
       "      <td>0.076923</td>\n",
       "      <td>0.307692</td>\n",
       "    </tr>\n",
       "    <tr>\n",
       "      <th>Status info</th>\n",
       "      <td>0.080000</td>\n",
       "      <td>0.080000</td>\n",
       "      <td>0.160000</td>\n",
       "      <td>0.080000</td>\n",
       "      <td>0.040000</td>\n",
       "      <td>0.280000</td>\n",
       "      <td>0.280000</td>\n",
       "    </tr>\n",
       "    <tr>\n",
       "      <th>Stop payment</th>\n",
       "      <td>0.300000</td>\n",
       "      <td>0.300000</td>\n",
       "      <td>0.000000</td>\n",
       "      <td>0.100000</td>\n",
       "      <td>0.100000</td>\n",
       "      <td>0.200000</td>\n",
       "      <td>0.000000</td>\n",
       "    </tr>\n",
       "    <tr>\n",
       "      <th>All</th>\n",
       "      <td>0.139344</td>\n",
       "      <td>0.139344</td>\n",
       "      <td>0.114754</td>\n",
       "      <td>0.122951</td>\n",
       "      <td>0.122951</td>\n",
       "      <td>0.180328</td>\n",
       "      <td>0.180328</td>\n",
       "    </tr>\n",
       "  </tbody>\n",
       "</table>\n",
       "</div>"
      ],
      "text/plain": [
       "Person               Henk   Jan jr.   Jan sr.     Karel      Kees    Marcel  \\\n",
       "Reclaim                                                                       \n",
       "Account closing  0.000000  0.000000  0.500000  0.166667  0.000000  0.000000   \n",
       "Billing          0.333333  0.111111  0.055556  0.222222  0.111111  0.111111   \n",
       "EB Contract      0.000000  0.000000  0.142857  0.142857  0.142857  0.285714   \n",
       "IBAN             0.000000  0.230769  0.076923  0.153846  0.307692  0.153846   \n",
       "Matching         0.133333  0.200000  0.100000  0.066667  0.133333  0.200000   \n",
       "Recalls          0.153846  0.076923  0.076923  0.153846  0.153846  0.076923   \n",
       "Status info      0.080000  0.080000  0.160000  0.080000  0.040000  0.280000   \n",
       "Stop payment     0.300000  0.300000  0.000000  0.100000  0.100000  0.200000   \n",
       "All              0.139344  0.139344  0.114754  0.122951  0.122951  0.180328   \n",
       "\n",
       "Person           Margriet  \n",
       "Reclaim                    \n",
       "Account closing  0.333333  \n",
       "Billing          0.055556  \n",
       "EB Contract      0.285714  \n",
       "IBAN             0.076923  \n",
       "Matching         0.166667  \n",
       "Recalls          0.307692  \n",
       "Status info      0.280000  \n",
       "Stop payment     0.000000  \n",
       "All              0.180328  "
      ]
     },
     "execution_count": 14,
     "metadata": {},
     "output_type": "execute_result"
    }
   ],
   "source": [
    "pd.crosstab(df6[\"Reclaim\"],df6[\"Person\"],margins=True, normalize='index')\n"
   ]
  },
  {
   "cell_type": "code",
   "execution_count": 15,
   "metadata": {},
   "outputs": [],
   "source": [
    "#Grafico de pareto\n",
    "df_pareto = pd.read_csv('pareto.csv',sep=';')"
   ]
  },
  {
   "cell_type": "code",
   "execution_count": 16,
   "metadata": {},
   "outputs": [
    {
     "name": "stdout",
     "output_type": "stream",
     "text": [
      "<class 'pandas.core.frame.DataFrame'>\n",
      "RangeIndex: 90 entries, 0 to 89\n",
      "Data columns (total 3 columns):\n",
      " #   Column    Non-Null Count  Dtype \n",
      "---  ------    --------------  ----- \n",
      " 0   Stops     90 non-null     int64 \n",
      " 1   Duration  90 non-null     object\n",
      " 2   Cause     90 non-null     object\n",
      "dtypes: int64(1), object(2)\n",
      "memory usage: 2.2+ KB\n"
     ]
    }
   ],
   "source": [
    "df_pareto.info()"
   ]
  },
  {
   "cell_type": "code",
   "execution_count": 17,
   "metadata": {},
   "outputs": [],
   "source": [
    "df_pareto['Duration'] = df_pareto['Duration'].str.replace(',', '.')\n"
   ]
  },
  {
   "cell_type": "code",
   "execution_count": 18,
   "metadata": {},
   "outputs": [],
   "source": [
    "#Converte de um tipo para o outro e com o parametro coerce, ele ignora possiveis erros\n",
    "#tais como nao haver um valor, uma sujeira no dataframe entre outros.\n",
    "df_pareto['Duration'] = pd.to_numeric(df_pareto['Duration'], errors='coerce')"
   ]
  },
  {
   "cell_type": "code",
   "execution_count": 19,
   "metadata": {},
   "outputs": [
    {
     "data": {
      "text/html": [
       "<div>\n",
       "<style scoped>\n",
       "    .dataframe tbody tr th:only-of-type {\n",
       "        vertical-align: middle;\n",
       "    }\n",
       "\n",
       "    .dataframe tbody tr th {\n",
       "        vertical-align: top;\n",
       "    }\n",
       "\n",
       "    .dataframe thead th {\n",
       "        text-align: right;\n",
       "    }\n",
       "</style>\n",
       "<table border=\"1\" class=\"dataframe\">\n",
       "  <thead>\n",
       "    <tr style=\"text-align: right;\">\n",
       "      <th></th>\n",
       "      <th>Stops</th>\n",
       "      <th>Duration</th>\n",
       "      <th>Cause</th>\n",
       "    </tr>\n",
       "  </thead>\n",
       "  <tbody>\n",
       "    <tr>\n",
       "      <th>0</th>\n",
       "      <td>1</td>\n",
       "      <td>30.0</td>\n",
       "      <td>Deviation in dimensions</td>\n",
       "    </tr>\n",
       "    <tr>\n",
       "      <th>1</th>\n",
       "      <td>2</td>\n",
       "      <td>45.0</td>\n",
       "      <td>Break</td>\n",
       "    </tr>\n",
       "    <tr>\n",
       "      <th>2</th>\n",
       "      <td>3</td>\n",
       "      <td>NaN</td>\n",
       "      <td>Deviation in dimensions</td>\n",
       "    </tr>\n",
       "    <tr>\n",
       "      <th>3</th>\n",
       "      <td>4</td>\n",
       "      <td>40.0</td>\n",
       "      <td>Problem with dough</td>\n",
       "    </tr>\n",
       "    <tr>\n",
       "      <th>4</th>\n",
       "      <td>5</td>\n",
       "      <td>55.0</td>\n",
       "      <td>Break</td>\n",
       "    </tr>\n",
       "    <tr>\n",
       "      <th>...</th>\n",
       "      <td>...</td>\n",
       "      <td>...</td>\n",
       "      <td>...</td>\n",
       "    </tr>\n",
       "    <tr>\n",
       "      <th>85</th>\n",
       "      <td>86</td>\n",
       "      <td>40.0</td>\n",
       "      <td>Break</td>\n",
       "    </tr>\n",
       "    <tr>\n",
       "      <th>86</th>\n",
       "      <td>87</td>\n",
       "      <td>5.0</td>\n",
       "      <td>Problem with dough</td>\n",
       "    </tr>\n",
       "    <tr>\n",
       "      <th>87</th>\n",
       "      <td>88</td>\n",
       "      <td>40.0</td>\n",
       "      <td>Break</td>\n",
       "    </tr>\n",
       "    <tr>\n",
       "      <th>88</th>\n",
       "      <td>89</td>\n",
       "      <td>44.8</td>\n",
       "      <td>Break</td>\n",
       "    </tr>\n",
       "    <tr>\n",
       "      <th>89</th>\n",
       "      <td>90</td>\n",
       "      <td>44.8</td>\n",
       "      <td>Break</td>\n",
       "    </tr>\n",
       "  </tbody>\n",
       "</table>\n",
       "<p>90 rows × 3 columns</p>\n",
       "</div>"
      ],
      "text/plain": [
       "    Stops  Duration                    Cause\n",
       "0       1      30.0  Deviation in dimensions\n",
       "1       2      45.0                    Break\n",
       "2       3       NaN  Deviation in dimensions\n",
       "3       4      40.0       Problem with dough\n",
       "4       5      55.0                    Break\n",
       "..    ...       ...                      ...\n",
       "85     86      40.0                    Break\n",
       "86     87       5.0       Problem with dough\n",
       "87     88      40.0                    Break\n",
       "88     89      44.8                    Break\n",
       "89     90      44.8                    Break\n",
       "\n",
       "[90 rows x 3 columns]"
      ]
     },
     "execution_count": 19,
     "metadata": {},
     "output_type": "execute_result"
    }
   ],
   "source": [
    "df_pareto"
   ]
  },
  {
   "cell_type": "code",
   "execution_count": 20,
   "metadata": {},
   "outputs": [
    {
     "name": "stdout",
     "output_type": "stream",
     "text": [
      "<class 'pandas.core.frame.DataFrame'>\n",
      "RangeIndex: 90 entries, 0 to 89\n",
      "Data columns (total 3 columns):\n",
      " #   Column    Non-Null Count  Dtype  \n",
      "---  ------    --------------  -----  \n",
      " 0   Stops     90 non-null     int64  \n",
      " 1   Duration  87 non-null     float64\n",
      " 2   Cause     90 non-null     object \n",
      "dtypes: float64(1), int64(1), object(1)\n",
      "memory usage: 2.2+ KB\n"
     ]
    }
   ],
   "source": [
    "df_pareto.info()"
   ]
  },
  {
   "cell_type": "code",
   "execution_count": 21,
   "metadata": {},
   "outputs": [],
   "source": [
    "df7 = df_pareto"
   ]
  },
  {
   "cell_type": "code",
   "execution_count": 22,
   "metadata": {},
   "outputs": [],
   "source": [
    "#df7 = df7.sort_values(by='Duration',ascending=False)"
   ]
  },
  {
   "cell_type": "code",
   "execution_count": 23,
   "metadata": {},
   "outputs": [
    {
     "data": {
      "image/png": "[encoded data removed]",
      "text/plain": [
       "<Figure size 576x576 with 1 Axes>"
      ]
     },
     "metadata": {},
     "output_type": "display_data"
    }
   ],
   "source": [
    "#gráfico de pizza com legenda\n",
    "df7.Cause.value_counts().plot(kind='bar', figsize=(8, 8))\n",
    "#plt.axis('equal')  # Para deixar o gráfico redondo\n",
    "plt.show()"
   ]
  },
  {
   "cell_type": "code",
   "execution_count": 24,
   "metadata": {},
   "outputs": [],
   "source": [
    "df8 = df7"
   ]
  },
  {
   "cell_type": "code",
   "execution_count": 25,
   "metadata": {},
   "outputs": [],
   "source": [
    "df9 = df8['Cause'].value_counts().reset_index()"
   ]
  },
  {
   "cell_type": "code",
   "execution_count": 26,
   "metadata": {},
   "outputs": [],
   "source": [
    "df9[\"soma\"] = df9[\"Cause\"].cumsum()/df9[\"Cause\"].sum()*100"
   ]
  },
  {
   "cell_type": "code",
   "execution_count": 27,
   "metadata": {},
   "outputs": [],
   "source": [
    "df9 = df9.set_index(\"index\")"
   ]
  },
  {
   "cell_type": "code",
   "execution_count": 28,
   "metadata": {},
   "outputs": [],
   "source": [
    "from matplotlib.ticker import PercentFormatter"
   ]
  },
  {
   "cell_type": "code",
   "execution_count": 29,
   "metadata": {},
   "outputs": [],
   "source": [
    "df9 = df9.sort_values(by='Cause',ascending=False)"
   ]
  },
  {
   "cell_type": "code",
   "execution_count": 30,
   "metadata": {},
   "outputs": [
    {
     "data": {
      "text/html": [
       "<div>\n",
       "<style scoped>\n",
       "    .dataframe tbody tr th:only-of-type {\n",
       "        vertical-align: middle;\n",
       "    }\n",
       "\n",
       "    .dataframe tbody tr th {\n",
       "        vertical-align: top;\n",
       "    }\n",
       "\n",
       "    .dataframe thead th {\n",
       "        text-align: right;\n",
       "    }\n",
       "</style>\n",
       "<table border=\"1\" class=\"dataframe\">\n",
       "  <thead>\n",
       "    <tr style=\"text-align: right;\">\n",
       "      <th></th>\n",
       "      <th>Cause</th>\n",
       "      <th>soma</th>\n",
       "    </tr>\n",
       "    <tr>\n",
       "      <th>index</th>\n",
       "      <th></th>\n",
       "      <th></th>\n",
       "    </tr>\n",
       "  </thead>\n",
       "  <tbody>\n",
       "    <tr>\n",
       "      <th>Deviation in dimensions</th>\n",
       "      <td>37</td>\n",
       "      <td>41.111111</td>\n",
       "    </tr>\n",
       "    <tr>\n",
       "      <th>Break</th>\n",
       "      <td>27</td>\n",
       "      <td>71.111111</td>\n",
       "    </tr>\n",
       "    <tr>\n",
       "      <th>Problem with dough</th>\n",
       "      <td>8</td>\n",
       "      <td>80.000000</td>\n",
       "    </tr>\n",
       "    <tr>\n",
       "      <th>Biscuits stick to the oven belt</th>\n",
       "      <td>4</td>\n",
       "      <td>84.444444</td>\n",
       "    </tr>\n",
       "    <tr>\n",
       "      <th>Maintenance</th>\n",
       "      <td>2</td>\n",
       "      <td>86.666667</td>\n",
       "    </tr>\n",
       "    <tr>\n",
       "      <th>Oven out of order</th>\n",
       "      <td>2</td>\n",
       "      <td>88.888889</td>\n",
       "    </tr>\n",
       "    <tr>\n",
       "      <th>Problem in dough preparation</th>\n",
       "      <td>2</td>\n",
       "      <td>91.111111</td>\n",
       "    </tr>\n",
       "    <tr>\n",
       "      <th>Experiment</th>\n",
       "      <td>1</td>\n",
       "      <td>92.222222</td>\n",
       "    </tr>\n",
       "    <tr>\n",
       "      <th>Problem with stacker belt</th>\n",
       "      <td>1</td>\n",
       "      <td>93.333333</td>\n",
       "    </tr>\n",
       "    <tr>\n",
       "      <th>Oven belt</th>\n",
       "      <td>1</td>\n",
       "      <td>94.444444</td>\n",
       "    </tr>\n",
       "    <tr>\n",
       "      <th>Problems with knife</th>\n",
       "      <td>1</td>\n",
       "      <td>95.555556</td>\n",
       "    </tr>\n",
       "    <tr>\n",
       "      <th>No production</th>\n",
       "      <td>1</td>\n",
       "      <td>96.666667</td>\n",
       "    </tr>\n",
       "    <tr>\n",
       "      <th>Cleaning of the oven belt</th>\n",
       "      <td>1</td>\n",
       "      <td>97.777778</td>\n",
       "    </tr>\n",
       "    <tr>\n",
       "      <th>Problem with temperature</th>\n",
       "      <td>1</td>\n",
       "      <td>98.888889</td>\n",
       "    </tr>\n",
       "    <tr>\n",
       "      <th>Problem with conveyor belt</th>\n",
       "      <td>1</td>\n",
       "      <td>100.000000</td>\n",
       "    </tr>\n",
       "  </tbody>\n",
       "</table>\n",
       "</div>"
      ],
      "text/plain": [
       "                                 Cause        soma\n",
       "index                                             \n",
       "Deviation in dimensions             37   41.111111\n",
       "Break                               27   71.111111\n",
       "Problem with dough                   8   80.000000\n",
       "Biscuits stick to the oven belt      4   84.444444\n",
       "Maintenance                          2   86.666667\n",
       "Oven out of order                    2   88.888889\n",
       "Problem in dough preparation         2   91.111111\n",
       "Experiment                           1   92.222222\n",
       "Problem with stacker belt            1   93.333333\n",
       "Oven belt                            1   94.444444\n",
       "Problems with knife                  1   95.555556\n",
       "No production                        1   96.666667\n",
       "Cleaning of the oven belt            1   97.777778\n",
       "Problem with temperature             1   98.888889\n",
       "Problem with conveyor belt           1  100.000000"
      ]
     },
     "execution_count": 30,
     "metadata": {},
     "output_type": "execute_result"
    }
   ],
   "source": [
    "df9"
   ]
  },
  {
   "cell_type": "code",
   "execution_count": 31,
   "metadata": {},
   "outputs": [
    {
     "data": {
      "image/png": "[encoded data removed]",
      "text/plain": [
       "<Figure size 864x576 with 2 Axes>"
      ]
     },
     "metadata": {},
     "output_type": "display_data"
    }
   ],
   "source": [
    "fig, ax = plt.subplots(figsize=(12, 8))\n",
    "ax.bar(df9.index, df9[\"Cause\"], color=\"C0\")\n",
    "ax2 = ax.twinx()\n",
    "ax2.plot(df9.index, df9[\"soma\"], color=\"C1\", marker=\"D\", ms=7)\n",
    "ax2.yaxis.set_major_formatter(PercentFormatter())\n",
    "\n",
    "ax.tick_params(axis=\"y\", colors=\"C0\")\n",
    "ax2.tick_params(axis=\"y\", colors=\"C1\")\n",
    "fig.autofmt_xdate(rotation=45)\n",
    "plt.show()"
   ]
  },
  {
   "cell_type": "code",
   "execution_count": 32,
   "metadata": {},
   "outputs": [],
   "source": [
    "data_caffeine2 = pd.read_csv('caffeine2.csv',sep=';')"
   ]
  },
  {
   "cell_type": "code",
   "execution_count": 34,
   "metadata": {},
   "outputs": [
    {
     "name": "stdout",
     "output_type": "stream",
     "text": [
      "<class 'pandas.core.frame.DataFrame'>\n",
      "RangeIndex: 50 entries, 0 to 49\n",
      "Data columns (total 3 columns):\n",
      " #   Column            Non-Null Count  Dtype \n",
      "---  ------            --------------  ----- \n",
      " 0   Measurement       50 non-null     int64 \n",
      " 1   Caffeine Content  50 non-null     object\n",
      " 2   Extraction time   50 non-null     object\n",
      "dtypes: int64(1), object(2)\n",
      "memory usage: 1.3+ KB\n"
     ]
    }
   ],
   "source": [
    "data_caffeine2.info()"
   ]
  },
  {
   "cell_type": "code",
   "execution_count": 35,
   "metadata": {},
   "outputs": [],
   "source": [
    "df10 = data_caffeine2"
   ]
  },
  {
   "cell_type": "code",
   "execution_count": 36,
   "metadata": {},
   "outputs": [],
   "source": [
    "df10['Caffeine Content'] = df10['Caffeine Content'].str.replace(',','.')\n",
    "df10['Extraction time'] = df10['Extraction time'].str.replace(',','.')\n",
    "df10['Extraction time'] = df10['Extraction time'].astype(float64)\n",
    "df10['Caffeine Content'] = df10['Caffeine Content'].astype(float64)\n"
   ]
  },
  {
   "cell_type": "code",
   "execution_count": 37,
   "metadata": {},
   "outputs": [
    {
     "name": "stdout",
     "output_type": "stream",
     "text": [
      "<class 'pandas.core.frame.DataFrame'>\n",
      "RangeIndex: 50 entries, 0 to 49\n",
      "Data columns (total 3 columns):\n",
      " #   Column            Non-Null Count  Dtype  \n",
      "---  ------            --------------  -----  \n",
      " 0   Measurement       50 non-null     int64  \n",
      " 1   Caffeine Content  50 non-null     float64\n",
      " 2   Extraction time   50 non-null     float64\n",
      "dtypes: float64(2), int64(1)\n",
      "memory usage: 1.3 KB\n"
     ]
    }
   ],
   "source": [
    "df10.info()"
   ]
  },
  {
   "cell_type": "code",
   "execution_count": 38,
   "metadata": {},
   "outputs": [
    {
     "data": {
      "image/png": "[encoded data removed]",
      "text/plain": [
       "<Figure size 432x288 with 1 Axes>"
      ]
     },
     "metadata": {},
     "output_type": "display_data"
    }
   ],
   "source": [
    "plt.scatter('Extraction time', 'Caffeine Content', data=df10)\n",
    "plt.show()"
   ]
  },
  {
   "cell_type": "code",
   "execution_count": 39,
   "metadata": {},
   "outputs": [],
   "source": [
    "df_caffeine3 = pd.read_csv('caffeine3.csv', sep=';')"
   ]
  },
  {
   "cell_type": "code",
   "execution_count": 40,
   "metadata": {},
   "outputs": [
    {
     "data": {
      "text/html": [
       "<div>\n",
       "<style scoped>\n",
       "    .dataframe tbody tr th:only-of-type {\n",
       "        vertical-align: middle;\n",
       "    }\n",
       "\n",
       "    .dataframe tbody tr th {\n",
       "        vertical-align: top;\n",
       "    }\n",
       "\n",
       "    .dataframe thead th {\n",
       "        text-align: right;\n",
       "    }\n",
       "</style>\n",
       "<table border=\"1\" class=\"dataframe\">\n",
       "  <thead>\n",
       "    <tr style=\"text-align: right;\">\n",
       "      <th></th>\n",
       "      <th>Caffeine%</th>\n",
       "      <th>Extractor nr.</th>\n",
       "      <th>Batch nr.</th>\n",
       "    </tr>\n",
       "  </thead>\n",
       "  <tbody>\n",
       "    <tr>\n",
       "      <th>0</th>\n",
       "      <td>0,0532</td>\n",
       "      <td>1</td>\n",
       "      <td>718</td>\n",
       "    </tr>\n",
       "    <tr>\n",
       "      <th>1</th>\n",
       "      <td>0,0570</td>\n",
       "      <td>2</td>\n",
       "      <td>718</td>\n",
       "    </tr>\n",
       "    <tr>\n",
       "      <th>2</th>\n",
       "      <td>0,1128</td>\n",
       "      <td>3</td>\n",
       "      <td>718</td>\n",
       "    </tr>\n",
       "    <tr>\n",
       "      <th>3</th>\n",
       "      <td>0,0525</td>\n",
       "      <td>1</td>\n",
       "      <td>718</td>\n",
       "    </tr>\n",
       "    <tr>\n",
       "      <th>4</th>\n",
       "      <td>0,0832</td>\n",
       "      <td>2</td>\n",
       "      <td>718</td>\n",
       "    </tr>\n",
       "  </tbody>\n",
       "</table>\n",
       "</div>"
      ],
      "text/plain": [
       "  Caffeine%  Extractor nr.  Batch nr.\n",
       "0    0,0532              1        718\n",
       "1    0,0570              2        718\n",
       "2    0,1128              3        718\n",
       "3    0,0525              1        718\n",
       "4    0,0832              2        718"
      ]
     },
     "execution_count": 40,
     "metadata": {},
     "output_type": "execute_result"
    }
   ],
   "source": [
    "df_caffeine3.head()"
   ]
  },
  {
   "cell_type": "code",
   "execution_count": 41,
   "metadata": {},
   "outputs": [
    {
     "name": "stdout",
     "output_type": "stream",
     "text": [
      "<class 'pandas.core.frame.DataFrame'>\n",
      "RangeIndex: 60 entries, 0 to 59\n",
      "Data columns (total 3 columns):\n",
      " #   Column         Non-Null Count  Dtype \n",
      "---  ------         --------------  ----- \n",
      " 0   Caffeine%      60 non-null     object\n",
      " 1   Extractor nr.  60 non-null     int64 \n",
      " 2   Batch nr.      60 non-null     int64 \n",
      "dtypes: int64(2), object(1)\n",
      "memory usage: 1.5+ KB\n"
     ]
    }
   ],
   "source": [
    "df_caffeine3.info()"
   ]
  },
  {
   "cell_type": "code",
   "execution_count": 42,
   "metadata": {},
   "outputs": [],
   "source": [
    "df_caffeine3['Caffeine%'] = df_caffeine3['Caffeine%'].str.replace(',','.')"
   ]
  },
  {
   "cell_type": "code",
   "execution_count": 43,
   "metadata": {},
   "outputs": [],
   "source": [
    "df_caffeine3['Caffeine%'] = df_caffeine3['Caffeine%'].astype(float64)"
   ]
  },
  {
   "cell_type": "code",
   "execution_count": 44,
   "metadata": {},
   "outputs": [],
   "source": [
    "df_caffeine3_bkp = df_caffeine3"
   ]
  },
  {
   "cell_type": "code",
   "execution_count": 45,
   "metadata": {},
   "outputs": [],
   "source": [
    "#cols = ['Caffeine%','Extractor nr.']"
   ]
  },
  {
   "cell_type": "code",
   "execution_count": 46,
   "metadata": {},
   "outputs": [],
   "source": [
    "#df_caffeine3 = df_caffeine3.drop(columns=['col3'])"
   ]
  },
  {
   "cell_type": "code",
   "execution_count": 47,
   "metadata": {},
   "outputs": [
    {
     "data": {
      "text/html": [
       "<div>\n",
       "<style scoped>\n",
       "    .dataframe tbody tr th:only-of-type {\n",
       "        vertical-align: middle;\n",
       "    }\n",
       "\n",
       "    .dataframe tbody tr th {\n",
       "        vertical-align: top;\n",
       "    }\n",
       "\n",
       "    .dataframe thead th {\n",
       "        text-align: right;\n",
       "    }\n",
       "</style>\n",
       "<table border=\"1\" class=\"dataframe\">\n",
       "  <thead>\n",
       "    <tr style=\"text-align: right;\">\n",
       "      <th></th>\n",
       "      <th>Caffeine%</th>\n",
       "      <th>Extractor nr.</th>\n",
       "      <th>Batch nr.</th>\n",
       "    </tr>\n",
       "  </thead>\n",
       "  <tbody>\n",
       "    <tr>\n",
       "      <th>0</th>\n",
       "      <td>0.0532</td>\n",
       "      <td>1</td>\n",
       "      <td>718</td>\n",
       "    </tr>\n",
       "    <tr>\n",
       "      <th>1</th>\n",
       "      <td>0.0570</td>\n",
       "      <td>2</td>\n",
       "      <td>718</td>\n",
       "    </tr>\n",
       "    <tr>\n",
       "      <th>2</th>\n",
       "      <td>0.1128</td>\n",
       "      <td>3</td>\n",
       "      <td>718</td>\n",
       "    </tr>\n",
       "    <tr>\n",
       "      <th>3</th>\n",
       "      <td>0.0525</td>\n",
       "      <td>1</td>\n",
       "      <td>718</td>\n",
       "    </tr>\n",
       "    <tr>\n",
       "      <th>4</th>\n",
       "      <td>0.0832</td>\n",
       "      <td>2</td>\n",
       "      <td>718</td>\n",
       "    </tr>\n",
       "    <tr>\n",
       "      <th>5</th>\n",
       "      <td>0.1170</td>\n",
       "      <td>3</td>\n",
       "      <td>718</td>\n",
       "    </tr>\n",
       "    <tr>\n",
       "      <th>6</th>\n",
       "      <td>0.0572</td>\n",
       "      <td>1</td>\n",
       "      <td>719</td>\n",
       "    </tr>\n",
       "    <tr>\n",
       "      <th>7</th>\n",
       "      <td>0.0727</td>\n",
       "      <td>2</td>\n",
       "      <td>719</td>\n",
       "    </tr>\n",
       "    <tr>\n",
       "      <th>8</th>\n",
       "      <td>0.1215</td>\n",
       "      <td>3</td>\n",
       "      <td>719</td>\n",
       "    </tr>\n",
       "    <tr>\n",
       "      <th>9</th>\n",
       "      <td>0.0379</td>\n",
       "      <td>1</td>\n",
       "      <td>719</td>\n",
       "    </tr>\n",
       "    <tr>\n",
       "      <th>10</th>\n",
       "      <td>0.0754</td>\n",
       "      <td>2</td>\n",
       "      <td>719</td>\n",
       "    </tr>\n",
       "    <tr>\n",
       "      <th>11</th>\n",
       "      <td>0.1277</td>\n",
       "      <td>3</td>\n",
       "      <td>719</td>\n",
       "    </tr>\n",
       "    <tr>\n",
       "      <th>12</th>\n",
       "      <td>0.0452</td>\n",
       "      <td>1</td>\n",
       "      <td>720</td>\n",
       "    </tr>\n",
       "    <tr>\n",
       "      <th>13</th>\n",
       "      <td>0.0569</td>\n",
       "      <td>2</td>\n",
       "      <td>720</td>\n",
       "    </tr>\n",
       "    <tr>\n",
       "      <th>14</th>\n",
       "      <td>0.1418</td>\n",
       "      <td>3</td>\n",
       "      <td>720</td>\n",
       "    </tr>\n",
       "    <tr>\n",
       "      <th>15</th>\n",
       "      <td>0.0449</td>\n",
       "      <td>1</td>\n",
       "      <td>720</td>\n",
       "    </tr>\n",
       "    <tr>\n",
       "      <th>16</th>\n",
       "      <td>0.0586</td>\n",
       "      <td>2</td>\n",
       "      <td>720</td>\n",
       "    </tr>\n",
       "    <tr>\n",
       "      <th>17</th>\n",
       "      <td>0.1394</td>\n",
       "      <td>3</td>\n",
       "      <td>720</td>\n",
       "    </tr>\n",
       "    <tr>\n",
       "      <th>18</th>\n",
       "      <td>0.0524</td>\n",
       "      <td>1</td>\n",
       "      <td>721</td>\n",
       "    </tr>\n",
       "    <tr>\n",
       "      <th>19</th>\n",
       "      <td>0.0636</td>\n",
       "      <td>2</td>\n",
       "      <td>721</td>\n",
       "    </tr>\n",
       "    <tr>\n",
       "      <th>20</th>\n",
       "      <td>0.1186</td>\n",
       "      <td>3</td>\n",
       "      <td>721</td>\n",
       "    </tr>\n",
       "    <tr>\n",
       "      <th>21</th>\n",
       "      <td>0.0268</td>\n",
       "      <td>1</td>\n",
       "      <td>721</td>\n",
       "    </tr>\n",
       "    <tr>\n",
       "      <th>22</th>\n",
       "      <td>0.0476</td>\n",
       "      <td>2</td>\n",
       "      <td>721</td>\n",
       "    </tr>\n",
       "    <tr>\n",
       "      <th>23</th>\n",
       "      <td>0.1375</td>\n",
       "      <td>3</td>\n",
       "      <td>721</td>\n",
       "    </tr>\n",
       "    <tr>\n",
       "      <th>24</th>\n",
       "      <td>0.0553</td>\n",
       "      <td>1</td>\n",
       "      <td>722</td>\n",
       "    </tr>\n",
       "    <tr>\n",
       "      <th>25</th>\n",
       "      <td>0.0857</td>\n",
       "      <td>2</td>\n",
       "      <td>722</td>\n",
       "    </tr>\n",
       "    <tr>\n",
       "      <th>26</th>\n",
       "      <td>0.1160</td>\n",
       "      <td>3</td>\n",
       "      <td>722</td>\n",
       "    </tr>\n",
       "    <tr>\n",
       "      <th>27</th>\n",
       "      <td>0.0508</td>\n",
       "      <td>1</td>\n",
       "      <td>722</td>\n",
       "    </tr>\n",
       "    <tr>\n",
       "      <th>28</th>\n",
       "      <td>0.0589</td>\n",
       "      <td>2</td>\n",
       "      <td>722</td>\n",
       "    </tr>\n",
       "    <tr>\n",
       "      <th>29</th>\n",
       "      <td>0.1309</td>\n",
       "      <td>3</td>\n",
       "      <td>722</td>\n",
       "    </tr>\n",
       "    <tr>\n",
       "      <th>30</th>\n",
       "      <td>0.0656</td>\n",
       "      <td>1</td>\n",
       "      <td>723</td>\n",
       "    </tr>\n",
       "    <tr>\n",
       "      <th>31</th>\n",
       "      <td>0.0606</td>\n",
       "      <td>2</td>\n",
       "      <td>723</td>\n",
       "    </tr>\n",
       "    <tr>\n",
       "      <th>32</th>\n",
       "      <td>0.1328</td>\n",
       "      <td>3</td>\n",
       "      <td>723</td>\n",
       "    </tr>\n",
       "    <tr>\n",
       "      <th>33</th>\n",
       "      <td>0.0626</td>\n",
       "      <td>1</td>\n",
       "      <td>723</td>\n",
       "    </tr>\n",
       "    <tr>\n",
       "      <th>34</th>\n",
       "      <td>0.0777</td>\n",
       "      <td>2</td>\n",
       "      <td>723</td>\n",
       "    </tr>\n",
       "    <tr>\n",
       "      <th>35</th>\n",
       "      <td>0.1381</td>\n",
       "      <td>3</td>\n",
       "      <td>723</td>\n",
       "    </tr>\n",
       "    <tr>\n",
       "      <th>36</th>\n",
       "      <td>0.0355</td>\n",
       "      <td>1</td>\n",
       "      <td>724</td>\n",
       "    </tr>\n",
       "    <tr>\n",
       "      <th>37</th>\n",
       "      <td>0.0703</td>\n",
       "      <td>2</td>\n",
       "      <td>724</td>\n",
       "    </tr>\n",
       "    <tr>\n",
       "      <th>38</th>\n",
       "      <td>0.1316</td>\n",
       "      <td>3</td>\n",
       "      <td>724</td>\n",
       "    </tr>\n",
       "    <tr>\n",
       "      <th>39</th>\n",
       "      <td>0.0476</td>\n",
       "      <td>1</td>\n",
       "      <td>724</td>\n",
       "    </tr>\n",
       "    <tr>\n",
       "      <th>40</th>\n",
       "      <td>0.0705</td>\n",
       "      <td>2</td>\n",
       "      <td>724</td>\n",
       "    </tr>\n",
       "    <tr>\n",
       "      <th>41</th>\n",
       "      <td>0.1453</td>\n",
       "      <td>3</td>\n",
       "      <td>724</td>\n",
       "    </tr>\n",
       "    <tr>\n",
       "      <th>42</th>\n",
       "      <td>0.0543</td>\n",
       "      <td>1</td>\n",
       "      <td>725</td>\n",
       "    </tr>\n",
       "    <tr>\n",
       "      <th>43</th>\n",
       "      <td>0.0955</td>\n",
       "      <td>2</td>\n",
       "      <td>725</td>\n",
       "    </tr>\n",
       "    <tr>\n",
       "      <th>44</th>\n",
       "      <td>0.1237</td>\n",
       "      <td>3</td>\n",
       "      <td>725</td>\n",
       "    </tr>\n",
       "    <tr>\n",
       "      <th>45</th>\n",
       "      <td>0.0481</td>\n",
       "      <td>1</td>\n",
       "      <td>725</td>\n",
       "    </tr>\n",
       "    <tr>\n",
       "      <th>46</th>\n",
       "      <td>0.0688</td>\n",
       "      <td>2</td>\n",
       "      <td>725</td>\n",
       "    </tr>\n",
       "    <tr>\n",
       "      <th>47</th>\n",
       "      <td>0.1302</td>\n",
       "      <td>3</td>\n",
       "      <td>725</td>\n",
       "    </tr>\n",
       "    <tr>\n",
       "      <th>48</th>\n",
       "      <td>0.0514</td>\n",
       "      <td>1</td>\n",
       "      <td>726</td>\n",
       "    </tr>\n",
       "    <tr>\n",
       "      <th>49</th>\n",
       "      <td>0.0613</td>\n",
       "      <td>2</td>\n",
       "      <td>726</td>\n",
       "    </tr>\n",
       "    <tr>\n",
       "      <th>50</th>\n",
       "      <td>0.1419</td>\n",
       "      <td>3</td>\n",
       "      <td>726</td>\n",
       "    </tr>\n",
       "    <tr>\n",
       "      <th>51</th>\n",
       "      <td>0.0343</td>\n",
       "      <td>1</td>\n",
       "      <td>726</td>\n",
       "    </tr>\n",
       "    <tr>\n",
       "      <th>52</th>\n",
       "      <td>0.0748</td>\n",
       "      <td>2</td>\n",
       "      <td>726</td>\n",
       "    </tr>\n",
       "    <tr>\n",
       "      <th>53</th>\n",
       "      <td>0.1397</td>\n",
       "      <td>3</td>\n",
       "      <td>726</td>\n",
       "    </tr>\n",
       "    <tr>\n",
       "      <th>54</th>\n",
       "      <td>0.0407</td>\n",
       "      <td>1</td>\n",
       "      <td>727</td>\n",
       "    </tr>\n",
       "    <tr>\n",
       "      <th>55</th>\n",
       "      <td>0.0657</td>\n",
       "      <td>2</td>\n",
       "      <td>727</td>\n",
       "    </tr>\n",
       "    <tr>\n",
       "      <th>56</th>\n",
       "      <td>0.1476</td>\n",
       "      <td>3</td>\n",
       "      <td>727</td>\n",
       "    </tr>\n",
       "    <tr>\n",
       "      <th>57</th>\n",
       "      <td>0.0564</td>\n",
       "      <td>1</td>\n",
       "      <td>727</td>\n",
       "    </tr>\n",
       "    <tr>\n",
       "      <th>58</th>\n",
       "      <td>0.0737</td>\n",
       "      <td>2</td>\n",
       "      <td>727</td>\n",
       "    </tr>\n",
       "    <tr>\n",
       "      <th>59</th>\n",
       "      <td>0.1269</td>\n",
       "      <td>3</td>\n",
       "      <td>727</td>\n",
       "    </tr>\n",
       "  </tbody>\n",
       "</table>\n",
       "</div>"
      ],
      "text/plain": [
       "    Caffeine%  Extractor nr.  Batch nr.\n",
       "0      0.0532              1        718\n",
       "1      0.0570              2        718\n",
       "2      0.1128              3        718\n",
       "3      0.0525              1        718\n",
       "4      0.0832              2        718\n",
       "5      0.1170              3        718\n",
       "6      0.0572              1        719\n",
       "7      0.0727              2        719\n",
       "8      0.1215              3        719\n",
       "9      0.0379              1        719\n",
       "10     0.0754              2        719\n",
       "11     0.1277              3        719\n",
       "12     0.0452              1        720\n",
       "13     0.0569              2        720\n",
       "14     0.1418              3        720\n",
       "15     0.0449              1        720\n",
       "16     0.0586              2        720\n",
       "17     0.1394              3        720\n",
       "18     0.0524              1        721\n",
       "19     0.0636              2        721\n",
       "20     0.1186              3        721\n",
       "21     0.0268              1        721\n",
       "22     0.0476              2        721\n",
       "23     0.1375              3        721\n",
       "24     0.0553              1        722\n",
       "25     0.0857              2        722\n",
       "26     0.1160              3        722\n",
       "27     0.0508              1        722\n",
       "28     0.0589              2        722\n",
       "29     0.1309              3        722\n",
       "30     0.0656              1        723\n",
       "31     0.0606              2        723\n",
       "32     0.1328              3        723\n",
       "33     0.0626              1        723\n",
       "34     0.0777              2        723\n",
       "35     0.1381              3        723\n",
       "36     0.0355              1        724\n",
       "37     0.0703              2        724\n",
       "38     0.1316              3        724\n",
       "39     0.0476              1        724\n",
       "40     0.0705              2        724\n",
       "41     0.1453              3        724\n",
       "42     0.0543              1        725\n",
       "43     0.0955              2        725\n",
       "44     0.1237              3        725\n",
       "45     0.0481              1        725\n",
       "46     0.0688              2        725\n",
       "47     0.1302              3        725\n",
       "48     0.0514              1        726\n",
       "49     0.0613              2        726\n",
       "50     0.1419              3        726\n",
       "51     0.0343              1        726\n",
       "52     0.0748              2        726\n",
       "53     0.1397              3        726\n",
       "54     0.0407              1        727\n",
       "55     0.0657              2        727\n",
       "56     0.1476              3        727\n",
       "57     0.0564              1        727\n",
       "58     0.0737              2        727\n",
       "59     0.1269              3        727"
      ]
     },
     "execution_count": 47,
     "metadata": {},
     "output_type": "execute_result"
    }
   ],
   "source": [
    "df_caffeine3"
   ]
  },
  {
   "cell_type": "code",
   "execution_count": 48,
   "metadata": {},
   "outputs": [],
   "source": [
    "col = ['Caffeine%' , 'Extractor nr.']"
   ]
  },
  {
   "cell_type": "code",
   "execution_count": 49,
   "metadata": {},
   "outputs": [],
   "source": [
    "boxplot2 = df_caffeine3[col]"
   ]
  },
  {
   "cell_type": "code",
   "execution_count": 50,
   "metadata": {},
   "outputs": [
    {
     "data": {
      "image/png": "[encoded data removed]",
      "text/plain": [
       "<Figure size 432x288 with 1 Axes>"
      ]
     },
     "metadata": {},
     "output_type": "display_data"
    }
   ],
   "source": [
    "boxplot = boxplot2.boxplot(by='Extractor nr.')"
   ]
  },
  {
   "cell_type": "code",
   "execution_count": null,
   "metadata": {},
   "outputs": [],
   "source": []
  },
  {
   "cell_type": "code",
   "execution_count": 51,
   "metadata": {},
   "outputs": [],
   "source": [
    "df_inv = pd.read_csv(\"investigation.csv\", sep=';')"
   ]
  },
  {
   "cell_type": "code",
   "execution_count": 59,
   "metadata": {},
   "outputs": [
    {
     "data": {
      "text/html": [
       "<div>\n",
       "<style scoped>\n",
       "    .dataframe tbody tr th:only-of-type {\n",
       "        vertical-align: middle;\n",
       "    }\n",
       "\n",
       "    .dataframe tbody tr th {\n",
       "        vertical-align: top;\n",
       "    }\n",
       "\n",
       "    .dataframe thead th {\n",
       "        text-align: right;\n",
       "    }\n",
       "</style>\n",
       "<table border=\"1\" class=\"dataframe\">\n",
       "  <thead>\n",
       "    <tr style=\"text-align: right;\">\n",
       "      <th></th>\n",
       "      <th>Case number</th>\n",
       "      <th>Sender-id</th>\n",
       "      <th>Type</th>\n",
       "      <th>Total time</th>\n",
       "      <th>Time open</th>\n",
       "      <th>Time pending</th>\n",
       "      <th>Time closed</th>\n",
       "      <th>Number of pending iterations</th>\n",
       "    </tr>\n",
       "  </thead>\n",
       "  <tbody>\n",
       "    <tr>\n",
       "      <th>0</th>\n",
       "      <td>GR0400250011</td>\n",
       "      <td>BSABESBB</td>\n",
       "      <td>AN</td>\n",
       "      <td>29,73</td>\n",
       "      <td>20,80</td>\n",
       "      <td>8,93</td>\n",
       "      <td>0,00</td>\n",
       "      <td>3</td>\n",
       "    </tr>\n",
       "    <tr>\n",
       "      <th>1</th>\n",
       "      <td>GR0400250015</td>\n",
       "      <td>BDCCANCU</td>\n",
       "      <td>OX</td>\n",
       "      <td>6,83</td>\n",
       "      <td>5,54</td>\n",
       "      <td>1,29</td>\n",
       "      <td>0,00</td>\n",
       "      <td>2</td>\n",
       "    </tr>\n",
       "    <tr>\n",
       "      <th>2</th>\n",
       "      <td>GR0400250022</td>\n",
       "      <td>CITIUS33</td>\n",
       "      <td>NU</td>\n",
       "      <td>6,86</td>\n",
       "      <td>6,86</td>\n",
       "      <td>0,00</td>\n",
       "      <td>0,00</td>\n",
       "      <td>0</td>\n",
       "    </tr>\n",
       "    <tr>\n",
       "      <th>3</th>\n",
       "      <td>GR0400250023</td>\n",
       "      <td>BOFMCAM2</td>\n",
       "      <td>NU</td>\n",
       "      <td>6,93</td>\n",
       "      <td>4,77</td>\n",
       "      <td>2,16</td>\n",
       "      <td>0,00</td>\n",
       "      <td>1</td>\n",
       "    </tr>\n",
       "    <tr>\n",
       "      <th>4</th>\n",
       "      <td>GR0400250024</td>\n",
       "      <td>BFICCUHH</td>\n",
       "      <td>OX</td>\n",
       "      <td>19,81</td>\n",
       "      <td>0,28</td>\n",
       "      <td>19,52</td>\n",
       "      <td>0,00</td>\n",
       "      <td>4</td>\n",
       "    </tr>\n",
       "    <tr>\n",
       "      <th>...</th>\n",
       "      <td>...</td>\n",
       "      <td>...</td>\n",
       "      <td>...</td>\n",
       "      <td>...</td>\n",
       "      <td>...</td>\n",
       "      <td>...</td>\n",
       "      <td>...</td>\n",
       "      <td>...</td>\n",
       "    </tr>\n",
       "    <tr>\n",
       "      <th>516</th>\n",
       "      <td>GR0400650518</td>\n",
       "      <td>CRLYFRPP</td>\n",
       "      <td>DD</td>\n",
       "      <td>0,04</td>\n",
       "      <td>0,04</td>\n",
       "      <td>0,00</td>\n",
       "      <td>0,00</td>\n",
       "      <td>0</td>\n",
       "    </tr>\n",
       "    <tr>\n",
       "      <th>517</th>\n",
       "      <td>GR0400650519</td>\n",
       "      <td>CRLYFRPP</td>\n",
       "      <td>DD</td>\n",
       "      <td>1,04</td>\n",
       "      <td>1,04</td>\n",
       "      <td>0,00</td>\n",
       "      <td>0,00</td>\n",
       "      <td>0</td>\n",
       "    </tr>\n",
       "    <tr>\n",
       "      <th>518</th>\n",
       "      <td>GR0400650520</td>\n",
       "      <td>RBTTSRPA</td>\n",
       "      <td>OX</td>\n",
       "      <td>1,82</td>\n",
       "      <td>0,77</td>\n",
       "      <td>1,05</td>\n",
       "      <td>0,00</td>\n",
       "      <td>1</td>\n",
       "    </tr>\n",
       "    <tr>\n",
       "      <th>519</th>\n",
       "      <td>GR0400650523</td>\n",
       "      <td>TRMEZWHA</td>\n",
       "      <td>WX</td>\n",
       "      <td>2,78</td>\n",
       "      <td>1,46</td>\n",
       "      <td>0,00</td>\n",
       "      <td>1,32</td>\n",
       "      <td>0</td>\n",
       "    </tr>\n",
       "    <tr>\n",
       "      <th>520</th>\n",
       "      <td>GR0400650531</td>\n",
       "      <td>AKBKGB2L</td>\n",
       "      <td>BC</td>\n",
       "      <td>0,00</td>\n",
       "      <td>0</td>\n",
       "      <td>0</td>\n",
       "      <td>0</td>\n",
       "      <td>0</td>\n",
       "    </tr>\n",
       "  </tbody>\n",
       "</table>\n",
       "<p>521 rows × 8 columns</p>\n",
       "</div>"
      ],
      "text/plain": [
       "      Case number Sender-id Type Total time Time open Time pending  \\\n",
       "0    GR0400250011  BSABESBB   AN      29,73     20,80         8,93   \n",
       "1    GR0400250015  BDCCANCU   OX       6,83      5,54         1,29   \n",
       "2    GR0400250022  CITIUS33   NU       6,86      6,86         0,00   \n",
       "3    GR0400250023  BOFMCAM2   NU       6,93      4,77         2,16   \n",
       "4    GR0400250024  BFICCUHH   OX      19,81      0,28        19,52   \n",
       "..            ...       ...  ...        ...       ...          ...   \n",
       "516  GR0400650518  CRLYFRPP   DD       0,04      0,04         0,00   \n",
       "517  GR0400650519  CRLYFRPP   DD       1,04      1,04         0,00   \n",
       "518  GR0400650520  RBTTSRPA   OX       1,82      0,77         1,05   \n",
       "519  GR0400650523  TRMEZWHA   WX       2,78      1,46         0,00   \n",
       "520  GR0400650531  AKBKGB2L   BC       0,00         0            0   \n",
       "\n",
       "    Time closed  Number of pending iterations  \n",
       "0          0,00                             3  \n",
       "1          0,00                             2  \n",
       "2          0,00                             0  \n",
       "3          0,00                             1  \n",
       "4          0,00                             4  \n",
       "..          ...                           ...  \n",
       "516        0,00                             0  \n",
       "517        0,00                             0  \n",
       "518        0,00                             1  \n",
       "519        1,32                             0  \n",
       "520           0                             0  \n",
       "\n",
       "[521 rows x 8 columns]"
      ]
     },
     "execution_count": 59,
     "metadata": {},
     "output_type": "execute_result"
    }
   ],
   "source": [
    "df_inv2 = df_inv "
   ]
  },
  {
   "cell_type": "code",
   "execution_count": 58,
   "metadata": {},
   "outputs": [
    {
     "name": "stdout",
     "output_type": "stream",
     "text": [
      "<class 'pandas.core.frame.DataFrame'>\n",
      "RangeIndex: 521 entries, 0 to 520\n",
      "Data columns (total 8 columns):\n",
      " #   Column                        Non-Null Count  Dtype \n",
      "---  ------                        --------------  ----- \n",
      " 0   Case number                   521 non-null    object\n",
      " 1   Sender-id                     521 non-null    object\n",
      " 2   Type                          521 non-null    object\n",
      " 3   Total time                    521 non-null    object\n",
      " 4   Time open                     521 non-null    object\n",
      " 5   Time pending                  521 non-null    object\n",
      " 6   Time closed                   521 non-null    object\n",
      " 7   Number of pending iterations  521 non-null    int64 \n",
      "dtypes: int64(1), object(7)\n",
      "memory usage: 32.7+ KB\n"
     ]
    }
   ],
   "source": [
    "df_inv2.info()"
   ]
  },
  {
   "cell_type": "code",
   "execution_count": 60,
   "metadata": {},
   "outputs": [],
   "source": [
    "cols2 = ['Total time','Time open', 'Time pending','Time closed']"
   ]
  },
  {
   "cell_type": "code",
   "execution_count": 79,
   "metadata": {},
   "outputs": [],
   "source": [
    "df_inv2[cols2[0]] = df_inv2[cols2[0]].str.replace(',','.')"
   ]
  },
  {
   "cell_type": "code",
   "execution_count": 89,
   "metadata": {},
   "outputs": [],
   "source": [
    "x = 0\n",
    "while x < 4:\n",
    "    df_inv2[cols2[x]] = df_inv2[cols2[x]].astype(float64)\n",
    "    x+= 1\n"
   ]
  },
  {
   "cell_type": "code",
   "execution_count": 90,
   "metadata": {},
   "outputs": [
    {
     "name": "stdout",
     "output_type": "stream",
     "text": [
      "<class 'pandas.core.frame.DataFrame'>\n",
      "RangeIndex: 521 entries, 0 to 520\n",
      "Data columns (total 8 columns):\n",
      " #   Column                        Non-Null Count  Dtype  \n",
      "---  ------                        --------------  -----  \n",
      " 0   Case number                   521 non-null    object \n",
      " 1   Sender-id                     521 non-null    object \n",
      " 2   Type                          521 non-null    object \n",
      " 3   Total time                    521 non-null    float64\n",
      " 4   Time open                     521 non-null    float64\n",
      " 5   Time pending                  521 non-null    float64\n",
      " 6   Time closed                   521 non-null    float64\n",
      " 7   Number of pending iterations  521 non-null    int64  \n",
      "dtypes: float64(4), int64(1), object(3)\n",
      "memory usage: 32.7+ KB\n"
     ]
    }
   ],
   "source": [
    "df_inv2.info()"
   ]
  },
  {
   "cell_type": "code",
   "execution_count": 93,
   "metadata": {},
   "outputs": [
    {
     "data": {
      "text/plain": [
       "count    521.000000\n",
       "mean       9.422342\n",
       "std       12.660866\n",
       "min        0.000000\n",
       "25%        1.040000\n",
       "50%        4.070000\n",
       "75%       11.850000\n",
       "max       59.800000\n",
       "Name: Total time, dtype: float64"
      ]
     },
     "execution_count": 93,
     "metadata": {},
     "output_type": "execute_result"
    }
   ],
   "source": [
    "df_inv2['Total time'].describe()"
   ]
  },
  {
   "cell_type": "code",
   "execution_count": 98,
   "metadata": {},
   "outputs": [
    {
     "data": {
      "text/plain": [
       "count    521.000000\n",
       "mean       2.891420\n",
       "std        3.076626\n",
       "min        0.000000\n",
       "25%        0.700000\n",
       "50%        2.100000\n",
       "75%        4.250000\n",
       "max       23.390000\n",
       "Name: Time open, dtype: float64"
      ]
     },
     "execution_count": 98,
     "metadata": {},
     "output_type": "execute_result"
    }
   ],
   "source": [
    "df_inv2['Time open'].describe()"
   ]
  },
  {
   "cell_type": "code",
   "execution_count": 99,
   "metadata": {},
   "outputs": [],
   "source": [
    "import numpy as np"
   ]
  },
  {
   "cell_type": "code",
   "execution_count": 105,
   "metadata": {},
   "outputs": [],
   "source": [
    "days = np.where(df_inv2['Time open']>=10)"
   ]
  },
  {
   "cell_type": "code",
   "execution_count": 111,
   "metadata": {},
   "outputs": [
    {
     "name": "stdout",
     "output_type": "stream",
     "text": [
      "(array([  0,  10,  73, 120, 138, 150, 170, 253, 300, 343, 354, 431],\n",
      "      dtype=int64),)\n"
     ]
    }
   ],
   "source": [
    "print(days)"
   ]
  },
  {
   "cell_type": "code",
   "execution_count": 120,
   "metadata": {},
   "outputs": [
    {
     "data": {
      "text/plain": [
       "Case number                     0\n",
       "Sender-id                       0\n",
       "Type                            0\n",
       "Total time                      0\n",
       "Time open                       0\n",
       "Time pending                    0\n",
       "Time closed                     0\n",
       "Number of pending iterations    0\n",
       "dtype: int64"
      ]
     },
     "execution_count": 120,
     "metadata": {},
     "output_type": "execute_result"
    }
   ],
   "source": [
    "df_inv2.isnull().sum()"
   ]
  },
  {
   "cell_type": "code",
   "execution_count": 126,
   "metadata": {},
   "outputs": [],
   "source": [
    "tempo15 = df_inv2[df_inv2[\"Time open\"] <= 15]"
   ]
  },
  {
   "cell_type": "code",
   "execution_count": 128,
   "metadata": {},
   "outputs": [
    {
     "name": "stdout",
     "output_type": "stream",
     "text": [
      "<class 'pandas.core.frame.DataFrame'>\n",
      "Int64Index: 516 entries, 1 to 520\n",
      "Data columns (total 8 columns):\n",
      " #   Column                        Non-Null Count  Dtype  \n",
      "---  ------                        --------------  -----  \n",
      " 0   Case number                   516 non-null    object \n",
      " 1   Sender-id                     516 non-null    object \n",
      " 2   Type                          516 non-null    object \n",
      " 3   Total time                    516 non-null    float64\n",
      " 4   Time open                     516 non-null    float64\n",
      " 5   Time pending                  516 non-null    float64\n",
      " 6   Time closed                   516 non-null    float64\n",
      " 7   Number of pending iterations  516 non-null    int64  \n",
      "dtypes: float64(4), int64(1), object(3)\n",
      "memory usage: 36.3+ KB\n"
     ]
    }
   ],
   "source": [
    "tempo15.info()"
   ]
  },
  {
   "cell_type": "code",
   "execution_count": 125,
   "metadata": {},
   "outputs": [
    {
     "data": {
      "text/html": [
       "<div>\n",
       "<style scoped>\n",
       "    .dataframe tbody tr th:only-of-type {\n",
       "        vertical-align: middle;\n",
       "    }\n",
       "\n",
       "    .dataframe tbody tr th {\n",
       "        vertical-align: top;\n",
       "    }\n",
       "\n",
       "    .dataframe thead th {\n",
       "        text-align: right;\n",
       "    }\n",
       "</style>\n",
       "<table border=\"1\" class=\"dataframe\">\n",
       "  <thead>\n",
       "    <tr style=\"text-align: right;\">\n",
       "      <th></th>\n",
       "      <th>Case number</th>\n",
       "      <th>Sender-id</th>\n",
       "      <th>Type</th>\n",
       "      <th>Total time</th>\n",
       "      <th>Time open</th>\n",
       "      <th>Time pending</th>\n",
       "      <th>Time closed</th>\n",
       "      <th>Number of pending iterations</th>\n",
       "    </tr>\n",
       "  </thead>\n",
       "  <tbody>\n",
       "    <tr>\n",
       "      <th>0</th>\n",
       "      <td>GR0400250011</td>\n",
       "      <td>BSABESBB</td>\n",
       "      <td>AN</td>\n",
       "      <td>29.73</td>\n",
       "      <td>20.80</td>\n",
       "      <td>8.93</td>\n",
       "      <td>0.00</td>\n",
       "      <td>3</td>\n",
       "    </tr>\n",
       "    <tr>\n",
       "      <th>1</th>\n",
       "      <td>GR0400250015</td>\n",
       "      <td>BDCCANCU</td>\n",
       "      <td>OX</td>\n",
       "      <td>6.83</td>\n",
       "      <td>5.54</td>\n",
       "      <td>1.29</td>\n",
       "      <td>0.00</td>\n",
       "      <td>2</td>\n",
       "    </tr>\n",
       "    <tr>\n",
       "      <th>2</th>\n",
       "      <td>GR0400250022</td>\n",
       "      <td>CITIUS33</td>\n",
       "      <td>NU</td>\n",
       "      <td>6.86</td>\n",
       "      <td>6.86</td>\n",
       "      <td>0.00</td>\n",
       "      <td>0.00</td>\n",
       "      <td>0</td>\n",
       "    </tr>\n",
       "    <tr>\n",
       "      <th>3</th>\n",
       "      <td>GR0400250023</td>\n",
       "      <td>BOFMCAM2</td>\n",
       "      <td>NU</td>\n",
       "      <td>6.93</td>\n",
       "      <td>4.77</td>\n",
       "      <td>2.16</td>\n",
       "      <td>0.00</td>\n",
       "      <td>1</td>\n",
       "    </tr>\n",
       "    <tr>\n",
       "      <th>4</th>\n",
       "      <td>GR0400250024</td>\n",
       "      <td>BFICCUHH</td>\n",
       "      <td>OX</td>\n",
       "      <td>19.81</td>\n",
       "      <td>0.28</td>\n",
       "      <td>19.52</td>\n",
       "      <td>0.00</td>\n",
       "      <td>4</td>\n",
       "    </tr>\n",
       "    <tr>\n",
       "      <th>...</th>\n",
       "      <td>...</td>\n",
       "      <td>...</td>\n",
       "      <td>...</td>\n",
       "      <td>...</td>\n",
       "      <td>...</td>\n",
       "      <td>...</td>\n",
       "      <td>...</td>\n",
       "      <td>...</td>\n",
       "    </tr>\n",
       "    <tr>\n",
       "      <th>516</th>\n",
       "      <td>GR0400650518</td>\n",
       "      <td>CRLYFRPP</td>\n",
       "      <td>DD</td>\n",
       "      <td>0.04</td>\n",
       "      <td>0.04</td>\n",
       "      <td>0.00</td>\n",
       "      <td>0.00</td>\n",
       "      <td>0</td>\n",
       "    </tr>\n",
       "    <tr>\n",
       "      <th>517</th>\n",
       "      <td>GR0400650519</td>\n",
       "      <td>CRLYFRPP</td>\n",
       "      <td>DD</td>\n",
       "      <td>1.04</td>\n",
       "      <td>1.04</td>\n",
       "      <td>0.00</td>\n",
       "      <td>0.00</td>\n",
       "      <td>0</td>\n",
       "    </tr>\n",
       "    <tr>\n",
       "      <th>518</th>\n",
       "      <td>GR0400650520</td>\n",
       "      <td>RBTTSRPA</td>\n",
       "      <td>OX</td>\n",
       "      <td>1.82</td>\n",
       "      <td>0.77</td>\n",
       "      <td>1.05</td>\n",
       "      <td>0.00</td>\n",
       "      <td>1</td>\n",
       "    </tr>\n",
       "    <tr>\n",
       "      <th>519</th>\n",
       "      <td>GR0400650523</td>\n",
       "      <td>TRMEZWHA</td>\n",
       "      <td>WX</td>\n",
       "      <td>2.78</td>\n",
       "      <td>1.46</td>\n",
       "      <td>0.00</td>\n",
       "      <td>1.32</td>\n",
       "      <td>0</td>\n",
       "    </tr>\n",
       "    <tr>\n",
       "      <th>520</th>\n",
       "      <td>GR0400650531</td>\n",
       "      <td>AKBKGB2L</td>\n",
       "      <td>BC</td>\n",
       "      <td>0.00</td>\n",
       "      <td>0.00</td>\n",
       "      <td>0.00</td>\n",
       "      <td>0.00</td>\n",
       "      <td>0</td>\n",
       "    </tr>\n",
       "  </tbody>\n",
       "</table>\n",
       "<p>521 rows × 8 columns</p>\n",
       "</div>"
      ],
      "text/plain": [
       "      Case number Sender-id Type  Total time  Time open  Time pending  \\\n",
       "0    GR0400250011  BSABESBB   AN       29.73      20.80          8.93   \n",
       "1    GR0400250015  BDCCANCU   OX        6.83       5.54          1.29   \n",
       "2    GR0400250022  CITIUS33   NU        6.86       6.86          0.00   \n",
       "3    GR0400250023  BOFMCAM2   NU        6.93       4.77          2.16   \n",
       "4    GR0400250024  BFICCUHH   OX       19.81       0.28         19.52   \n",
       "..            ...       ...  ...         ...        ...           ...   \n",
       "516  GR0400650518  CRLYFRPP   DD        0.04       0.04          0.00   \n",
       "517  GR0400650519  CRLYFRPP   DD        1.04       1.04          0.00   \n",
       "518  GR0400650520  RBTTSRPA   OX        1.82       0.77          1.05   \n",
       "519  GR0400650523  TRMEZWHA   WX        2.78       1.46          0.00   \n",
       "520  GR0400650531  AKBKGB2L   BC        0.00       0.00          0.00   \n",
       "\n",
       "     Time closed  Number of pending iterations  \n",
       "0           0.00                             3  \n",
       "1           0.00                             2  \n",
       "2           0.00                             0  \n",
       "3           0.00                             1  \n",
       "4           0.00                             4  \n",
       "..           ...                           ...  \n",
       "516         0.00                             0  \n",
       "517         0.00                             0  \n",
       "518         0.00                             1  \n",
       "519         1.32                             0  \n",
       "520         0.00                             0  \n",
       "\n",
       "[521 rows x 8 columns]"
      ]
     },
     "execution_count": 125,
     "metadata": {},
     "output_type": "execute_result"
    }
   ],
   "source": [
    "df_inv2"
   ]
  },
  {
   "cell_type": "code",
   "execution_count": 129,
   "metadata": {},
   "outputs": [],
   "source": [
    "import seaborn as sns\n",
    "sns.set(color_codes=True)\n",
    "sns.set_context(\"paper\",font_scale=2)\n",
    "sns.set_style(\"white\")"
   ]
  },
  {
   "cell_type": "code",
   "execution_count": 131,
   "metadata": {},
   "outputs": [
    {
     "data": {
      "text/html": [
       "<div>\n",
       "<style scoped>\n",
       "    .dataframe tbody tr th:only-of-type {\n",
       "        vertical-align: middle;\n",
       "    }\n",
       "\n",
       "    .dataframe tbody tr th {\n",
       "        vertical-align: top;\n",
       "    }\n",
       "\n",
       "    .dataframe thead th {\n",
       "        text-align: right;\n",
       "    }\n",
       "</style>\n",
       "<table border=\"1\" class=\"dataframe\">\n",
       "  <thead>\n",
       "    <tr style=\"text-align: right;\">\n",
       "      <th></th>\n",
       "      <th>Case number</th>\n",
       "      <th>Sender-id</th>\n",
       "      <th>Type</th>\n",
       "      <th>Total time</th>\n",
       "      <th>Time open</th>\n",
       "      <th>Time pending</th>\n",
       "      <th>Time closed</th>\n",
       "      <th>Number of pending iterations</th>\n",
       "    </tr>\n",
       "  </thead>\n",
       "  <tbody>\n",
       "    <tr>\n",
       "      <th>1</th>\n",
       "      <td>GR0400250015</td>\n",
       "      <td>BDCCANCU</td>\n",
       "      <td>OX</td>\n",
       "      <td>6.83</td>\n",
       "      <td>5.54</td>\n",
       "      <td>1.29</td>\n",
       "      <td>0.00</td>\n",
       "      <td>2</td>\n",
       "    </tr>\n",
       "    <tr>\n",
       "      <th>2</th>\n",
       "      <td>GR0400250022</td>\n",
       "      <td>CITIUS33</td>\n",
       "      <td>NU</td>\n",
       "      <td>6.86</td>\n",
       "      <td>6.86</td>\n",
       "      <td>0.00</td>\n",
       "      <td>0.00</td>\n",
       "      <td>0</td>\n",
       "    </tr>\n",
       "    <tr>\n",
       "      <th>3</th>\n",
       "      <td>GR0400250023</td>\n",
       "      <td>BOFMCAM2</td>\n",
       "      <td>NU</td>\n",
       "      <td>6.93</td>\n",
       "      <td>4.77</td>\n",
       "      <td>2.16</td>\n",
       "      <td>0.00</td>\n",
       "      <td>1</td>\n",
       "    </tr>\n",
       "    <tr>\n",
       "      <th>4</th>\n",
       "      <td>GR0400250024</td>\n",
       "      <td>BFICCUHH</td>\n",
       "      <td>OX</td>\n",
       "      <td>19.81</td>\n",
       "      <td>0.28</td>\n",
       "      <td>19.52</td>\n",
       "      <td>0.00</td>\n",
       "      <td>4</td>\n",
       "    </tr>\n",
       "    <tr>\n",
       "      <th>5</th>\n",
       "      <td>GR0400250025</td>\n",
       "      <td>PNCCUS33</td>\n",
       "      <td>AN</td>\n",
       "      <td>5.70</td>\n",
       "      <td>5.70</td>\n",
       "      <td>0.00</td>\n",
       "      <td>0.00</td>\n",
       "      <td>0</td>\n",
       "    </tr>\n",
       "    <tr>\n",
       "      <th>...</th>\n",
       "      <td>...</td>\n",
       "      <td>...</td>\n",
       "      <td>...</td>\n",
       "      <td>...</td>\n",
       "      <td>...</td>\n",
       "      <td>...</td>\n",
       "      <td>...</td>\n",
       "      <td>...</td>\n",
       "    </tr>\n",
       "    <tr>\n",
       "      <th>516</th>\n",
       "      <td>GR0400650518</td>\n",
       "      <td>CRLYFRPP</td>\n",
       "      <td>DD</td>\n",
       "      <td>0.04</td>\n",
       "      <td>0.04</td>\n",
       "      <td>0.00</td>\n",
       "      <td>0.00</td>\n",
       "      <td>0</td>\n",
       "    </tr>\n",
       "    <tr>\n",
       "      <th>517</th>\n",
       "      <td>GR0400650519</td>\n",
       "      <td>CRLYFRPP</td>\n",
       "      <td>DD</td>\n",
       "      <td>1.04</td>\n",
       "      <td>1.04</td>\n",
       "      <td>0.00</td>\n",
       "      <td>0.00</td>\n",
       "      <td>0</td>\n",
       "    </tr>\n",
       "    <tr>\n",
       "      <th>518</th>\n",
       "      <td>GR0400650520</td>\n",
       "      <td>RBTTSRPA</td>\n",
       "      <td>OX</td>\n",
       "      <td>1.82</td>\n",
       "      <td>0.77</td>\n",
       "      <td>1.05</td>\n",
       "      <td>0.00</td>\n",
       "      <td>1</td>\n",
       "    </tr>\n",
       "    <tr>\n",
       "      <th>519</th>\n",
       "      <td>GR0400650523</td>\n",
       "      <td>TRMEZWHA</td>\n",
       "      <td>WX</td>\n",
       "      <td>2.78</td>\n",
       "      <td>1.46</td>\n",
       "      <td>0.00</td>\n",
       "      <td>1.32</td>\n",
       "      <td>0</td>\n",
       "    </tr>\n",
       "    <tr>\n",
       "      <th>520</th>\n",
       "      <td>GR0400650531</td>\n",
       "      <td>AKBKGB2L</td>\n",
       "      <td>BC</td>\n",
       "      <td>0.00</td>\n",
       "      <td>0.00</td>\n",
       "      <td>0.00</td>\n",
       "      <td>0.00</td>\n",
       "      <td>0</td>\n",
       "    </tr>\n",
       "  </tbody>\n",
       "</table>\n",
       "<p>516 rows × 8 columns</p>\n",
       "</div>"
      ],
      "text/plain": [
       "      Case number Sender-id Type  Total time  Time open  Time pending  \\\n",
       "1    GR0400250015  BDCCANCU   OX        6.83       5.54          1.29   \n",
       "2    GR0400250022  CITIUS33   NU        6.86       6.86          0.00   \n",
       "3    GR0400250023  BOFMCAM2   NU        6.93       4.77          2.16   \n",
       "4    GR0400250024  BFICCUHH   OX       19.81       0.28         19.52   \n",
       "5    GR0400250025  PNCCUS33   AN        5.70       5.70          0.00   \n",
       "..            ...       ...  ...         ...        ...           ...   \n",
       "516  GR0400650518  CRLYFRPP   DD        0.04       0.04          0.00   \n",
       "517  GR0400650519  CRLYFRPP   DD        1.04       1.04          0.00   \n",
       "518  GR0400650520  RBTTSRPA   OX        1.82       0.77          1.05   \n",
       "519  GR0400650523  TRMEZWHA   WX        2.78       1.46          0.00   \n",
       "520  GR0400650531  AKBKGB2L   BC        0.00       0.00          0.00   \n",
       "\n",
       "     Time closed  Number of pending iterations  \n",
       "1           0.00                             2  \n",
       "2           0.00                             0  \n",
       "3           0.00                             1  \n",
       "4           0.00                             4  \n",
       "5           0.00                             0  \n",
       "..           ...                           ...  \n",
       "516         0.00                             0  \n",
       "517         0.00                             0  \n",
       "518         0.00                             1  \n",
       "519         1.32                             0  \n",
       "520         0.00                             0  \n",
       "\n",
       "[516 rows x 8 columns]"
      ]
     },
     "execution_count": 131,
     "metadata": {},
     "output_type": "execute_result"
    }
   ],
   "source": [
    "tempo15"
   ]
  },
  {
   "cell_type": "code",
   "execution_count": 135,
   "metadata": {},
   "outputs": [
    {
     "data": {
      "text/plain": [
       "<matplotlib.axes._subplots.AxesSubplot at 0x171293d5220>"
      ]
     },
     "execution_count": 135,
     "metadata": {},
     "output_type": "execute_result"
    },
    {
     "data": {
      "image/png": "[encoded data removed]",
      "text/plain": [
       "<Figure size 432x288 with 1 Axes>"
      ]
     },
     "metadata": {},
     "output_type": "display_data"
    }
   ],
   "source": [
    "sns.distplot(tempo15['Time open'],hist = True, norm_hist = True, kde=False)"
   ]
  },
  {
   "cell_type": "code",
   "execution_count": 138,
   "metadata": {},
   "outputs": [
    {
     "data": {
      "text/plain": [
       "<matplotlib.axes._subplots.AxesSubplot at 0x171290964c0>"
      ]
     },
     "execution_count": 138,
     "metadata": {},
     "output_type": "execute_result"
    },
    {
     "data": {
      "image/png": "[encoded data removed]",
      "text/plain": [
       "<Figure size 432x288 with 1 Axes>"
      ]
     },
     "metadata": {},
     "output_type": "display_data"
    }
   ],
   "source": [
    "sns.distplot(tempo15['Time open'])"
   ]
  },
  {
   "cell_type": "code",
   "execution_count": 139,
   "metadata": {},
   "outputs": [
    {
     "data": {
      "image/png": "[encoded data removed]",
      "text/plain": [
       "<Figure size 576x576 with 1 Axes>"
      ]
     },
     "metadata": {},
     "output_type": "display_data"
    }
   ],
   "source": [
    "#gráfico de pizza com legenda\n",
    "df_inv2.Type.value_counts().plot(kind='bar', figsize=(8, 8))\n",
    "#plt.axis('equal')  # Para deixar o gráfico redondo\n",
    "plt.show()"
   ]
  },
  {
   "cell_type": "code",
   "execution_count": null,
   "metadata": {},
   "outputs": [],
   "source": []
  }
 ],
 "metadata": {
  "kernelspec": {
   "display_name": "Python 3",
   "language": "python",
   "name": "python3"
  },
  "language_info": {
   "codemirror_mode": {
    "name": "ipython",
    "version": 3
   },
   "file_extension": ".py",
   "mimetype": "text/x-python",
   "name": "python",
   "nbconvert_exporter": "python",
   "pygments_lexer": "ipython3",
   "version": "3.8.3"
  }
 },
 "nbformat": 4,
 "nbformat_minor": 4
}
