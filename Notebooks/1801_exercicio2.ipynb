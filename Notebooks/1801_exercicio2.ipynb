{
  "nbformat": 4,
  "nbformat_minor": 0,
  "metadata": {
    "kernelspec": {
      "display_name": "Python 3",
      "language": "python",
      "name": "python3"
    },
    "language_info": {
      "codemirror_mode": {
        "name": "ipython",
        "version": 3
      },
      "file_extension": ".py",
      "mimetype": "text/x-python",
      "name": "python",
      "nbconvert_exporter": "python",
      "pygments_lexer": "ipython3",
      "version": "3.8.3"
    },
    "colab": {
      "name": "1801_exercicio2.ipynb",
      "provenance": [],
      "include_colab_link": true
    }
  },
  "cells": [
    {
      "cell_type": "markdown",
      "metadata": {
        "id": "view-in-github",
        "colab_type": "text"
      },
      "source": [
        "<a href=\"https://colab.research.google.com/github/julioalexandre/-Data-Analytics-for-Lean-Six-Sigma/blob/master/1801_exercicio2.ipynb\" target=\"_parent\"><img src=\"https://colab.research.google.com/assets/colab-badge.svg\" alt=\"Open In Colab\"/></a>"
      ]
    },
    {
      "cell_type": "markdown",
      "metadata": {
        "id": "vKKEiHpGRRDX"
      },
      "source": [
        "# Exercicio\r\n",
        "\r\n",
        "\r\n",
        "*   Qual a média e o desvio padrão para a variavel \"total time\"\r\n",
        "*   Quantas recuperações são tratadas em até 15 dias?\r\n",
        "*   A distribuição é simetrica?\r\n",
        "*   Que tipo de reclamação ocorre com mais frequência? \r\n",
        "\r\n",
        "\r\n",
        "\r\n"
      ]
    },
    {
      "cell_type": "markdown",
      "metadata": {
        "id": "YYT0ZFcfSF4U"
      },
      "source": [
        "# Importando os dados e tratando as variavéis"
      ]
    },
    {
      "cell_type": "code",
      "metadata": {
        "id": "6t8j1_N0SR1x"
      },
      "source": [
        "import pandas as pd\r\n",
        "%matplotlib inline\r\n",
        "%pylab inline\r\n",
        "import matplotlib.pyplot as plt\r\n",
        "import seaborn as sns\r\n",
        "import random\r\n",
        "plt.style.use('ggplot')"
      ],
      "execution_count": null,
      "outputs": []
    },
    {
      "cell_type": "code",
      "metadata": {
        "id": "oUe_XcUMSvA7",
        "outputId": "21cc732d-09db-4045-cd33-09b118593a0f",
        "colab": {
          "base_uri": "https://localhost:8080/"
        }
      },
      "source": [
        "#Adiquirindo o dataset\r\n",
        "!wget --no-check-certificate --content-disposition https://raw.githubusercontent.com/julioalexandre/-Data-Analytics-for-Lean-Six-Sigma/master/investigation.csv\r\n"
      ],
      "execution_count": 17,
      "outputs": [
        {
          "output_type": "stream",
          "text": [
            "--2021-01-19 20:33:03--  https://raw.githubusercontent.com/julioalexandre/-Data-Analytics-for-Lean-Six-Sigma/master/investigation.csv\n",
            "Resolving raw.githubusercontent.com (raw.githubusercontent.com)... 151.101.0.133, 151.101.64.133, 151.101.128.133, ...\n",
            "Connecting to raw.githubusercontent.com (raw.githubusercontent.com)|151.101.0.133|:443... connected.\n",
            "HTTP request sent, awaiting response... 200 OK\n",
            "Length: 25120 (25K) [text/plain]\n",
            "Saving to: ‘investigation.csv’\n",
            "\n",
            "\rinvestigation.csv     0%[                    ]       0  --.-KB/s               \rinvestigation.csv   100%[===================>]  24.53K  --.-KB/s    in 0.002s  \n",
            "\n",
            "2021-01-19 20:33:03 (12.7 MB/s) - ‘investigation.csv’ saved [25120/25120]\n",
            "\n"
          ],
          "name": "stdout"
        }
      ]
    },
    {
      "cell_type": "code",
      "metadata": {
        "id": "gdep0xOfWjSa"
      },
      "source": [
        "#importando o dataset\r\n",
        "df_inv = pd.read_csv(\"investigation.csv\", sep=';')"
      ],
      "execution_count": 18,
      "outputs": []
    },
    {
      "cell_type": "code",
      "metadata": {
        "id": "KxAdddgHWjQF",
        "outputId": "7938957e-7adf-428a-f6fb-7853572f13f1",
        "colab": {
          "base_uri": "https://localhost:8080/",
          "height": 204
        }
      },
      "source": [
        "#Verificando as 5 primeiras linhas do dataset\r\n",
        "df_inv.head()"
      ],
      "execution_count": 20,
      "outputs": [
        {
          "output_type": "execute_result",
          "data": {
            "text/html": [
              "<div>\n",
              "<style scoped>\n",
              "    .dataframe tbody tr th:only-of-type {\n",
              "        vertical-align: middle;\n",
              "    }\n",
              "\n",
              "    .dataframe tbody tr th {\n",
              "        vertical-align: top;\n",
              "    }\n",
              "\n",
              "    .dataframe thead th {\n",
              "        text-align: right;\n",
              "    }\n",
              "</style>\n",
              "<table border=\"1\" class=\"dataframe\">\n",
              "  <thead>\n",
              "    <tr style=\"text-align: right;\">\n",
              "      <th></th>\n",
              "      <th>Case number</th>\n",
              "      <th>Sender-id</th>\n",
              "      <th>Type</th>\n",
              "      <th>Total time</th>\n",
              "      <th>Time open</th>\n",
              "      <th>Time pending</th>\n",
              "      <th>Time closed</th>\n",
              "      <th>Number of pending iterations</th>\n",
              "    </tr>\n",
              "  </thead>\n",
              "  <tbody>\n",
              "    <tr>\n",
              "      <th>0</th>\n",
              "      <td>GR0400250011</td>\n",
              "      <td>BSABESBB</td>\n",
              "      <td>AN</td>\n",
              "      <td>29,73</td>\n",
              "      <td>20,80</td>\n",
              "      <td>8,93</td>\n",
              "      <td>0,00</td>\n",
              "      <td>3</td>\n",
              "    </tr>\n",
              "    <tr>\n",
              "      <th>1</th>\n",
              "      <td>GR0400250015</td>\n",
              "      <td>BDCCANCU</td>\n",
              "      <td>OX</td>\n",
              "      <td>6,83</td>\n",
              "      <td>5,54</td>\n",
              "      <td>1,29</td>\n",
              "      <td>0,00</td>\n",
              "      <td>2</td>\n",
              "    </tr>\n",
              "    <tr>\n",
              "      <th>2</th>\n",
              "      <td>GR0400250022</td>\n",
              "      <td>CITIUS33</td>\n",
              "      <td>NU</td>\n",
              "      <td>6,86</td>\n",
              "      <td>6,86</td>\n",
              "      <td>0,00</td>\n",
              "      <td>0,00</td>\n",
              "      <td>0</td>\n",
              "    </tr>\n",
              "    <tr>\n",
              "      <th>3</th>\n",
              "      <td>GR0400250023</td>\n",
              "      <td>BOFMCAM2</td>\n",
              "      <td>NU</td>\n",
              "      <td>6,93</td>\n",
              "      <td>4,77</td>\n",
              "      <td>2,16</td>\n",
              "      <td>0,00</td>\n",
              "      <td>1</td>\n",
              "    </tr>\n",
              "    <tr>\n",
              "      <th>4</th>\n",
              "      <td>GR0400250024</td>\n",
              "      <td>BFICCUHH</td>\n",
              "      <td>OX</td>\n",
              "      <td>19,81</td>\n",
              "      <td>0,28</td>\n",
              "      <td>19,52</td>\n",
              "      <td>0,00</td>\n",
              "      <td>4</td>\n",
              "    </tr>\n",
              "  </tbody>\n",
              "</table>\n",
              "</div>"
            ],
            "text/plain": [
              "    Case number Sender-id  ... Time closed Number of pending iterations\n",
              "0  GR0400250011  BSABESBB  ...        0,00                            3\n",
              "1  GR0400250015  BDCCANCU  ...        0,00                            2\n",
              "2  GR0400250022  CITIUS33  ...        0,00                            0\n",
              "3  GR0400250023  BOFMCAM2  ...        0,00                            1\n",
              "4  GR0400250024  BFICCUHH  ...        0,00                            4\n",
              "\n",
              "[5 rows x 8 columns]"
            ]
          },
          "metadata": {
            "tags": []
          },
          "execution_count": 20
        }
      ]
    },
    {
      "cell_type": "code",
      "metadata": {
        "id": "vWJJHVZmWjNX",
        "outputId": "1e863df0-8f55-4baf-f726-6f66c0e1ce9c",
        "colab": {
          "base_uri": "https://localhost:8080/",
          "height": 204
        }
      },
      "source": [
        "#verifcando as ultimas 5 linhas do dataset\r\n",
        "df_inv.tail()"
      ],
      "execution_count": 21,
      "outputs": [
        {
          "output_type": "execute_result",
          "data": {
            "text/html": [
              "<div>\n",
              "<style scoped>\n",
              "    .dataframe tbody tr th:only-of-type {\n",
              "        vertical-align: middle;\n",
              "    }\n",
              "\n",
              "    .dataframe tbody tr th {\n",
              "        vertical-align: top;\n",
              "    }\n",
              "\n",
              "    .dataframe thead th {\n",
              "        text-align: right;\n",
              "    }\n",
              "</style>\n",
              "<table border=\"1\" class=\"dataframe\">\n",
              "  <thead>\n",
              "    <tr style=\"text-align: right;\">\n",
              "      <th></th>\n",
              "      <th>Case number</th>\n",
              "      <th>Sender-id</th>\n",
              "      <th>Type</th>\n",
              "      <th>Total time</th>\n",
              "      <th>Time open</th>\n",
              "      <th>Time pending</th>\n",
              "      <th>Time closed</th>\n",
              "      <th>Number of pending iterations</th>\n",
              "    </tr>\n",
              "  </thead>\n",
              "  <tbody>\n",
              "    <tr>\n",
              "      <th>516</th>\n",
              "      <td>GR0400650518</td>\n",
              "      <td>CRLYFRPP</td>\n",
              "      <td>DD</td>\n",
              "      <td>0,04</td>\n",
              "      <td>0,04</td>\n",
              "      <td>0,00</td>\n",
              "      <td>0,00</td>\n",
              "      <td>0</td>\n",
              "    </tr>\n",
              "    <tr>\n",
              "      <th>517</th>\n",
              "      <td>GR0400650519</td>\n",
              "      <td>CRLYFRPP</td>\n",
              "      <td>DD</td>\n",
              "      <td>1,04</td>\n",
              "      <td>1,04</td>\n",
              "      <td>0,00</td>\n",
              "      <td>0,00</td>\n",
              "      <td>0</td>\n",
              "    </tr>\n",
              "    <tr>\n",
              "      <th>518</th>\n",
              "      <td>GR0400650520</td>\n",
              "      <td>RBTTSRPA</td>\n",
              "      <td>OX</td>\n",
              "      <td>1,82</td>\n",
              "      <td>0,77</td>\n",
              "      <td>1,05</td>\n",
              "      <td>0,00</td>\n",
              "      <td>1</td>\n",
              "    </tr>\n",
              "    <tr>\n",
              "      <th>519</th>\n",
              "      <td>GR0400650523</td>\n",
              "      <td>TRMEZWHA</td>\n",
              "      <td>WX</td>\n",
              "      <td>2,78</td>\n",
              "      <td>1,46</td>\n",
              "      <td>0,00</td>\n",
              "      <td>1,32</td>\n",
              "      <td>0</td>\n",
              "    </tr>\n",
              "    <tr>\n",
              "      <th>520</th>\n",
              "      <td>GR0400650531</td>\n",
              "      <td>AKBKGB2L</td>\n",
              "      <td>BC</td>\n",
              "      <td>0,00</td>\n",
              "      <td>0</td>\n",
              "      <td>0</td>\n",
              "      <td>0</td>\n",
              "      <td>0</td>\n",
              "    </tr>\n",
              "  </tbody>\n",
              "</table>\n",
              "</div>"
            ],
            "text/plain": [
              "      Case number Sender-id  ... Time closed Number of pending iterations\n",
              "516  GR0400650518  CRLYFRPP  ...        0,00                            0\n",
              "517  GR0400650519  CRLYFRPP  ...        0,00                            0\n",
              "518  GR0400650520  RBTTSRPA  ...        0,00                            1\n",
              "519  GR0400650523  TRMEZWHA  ...        1,32                            0\n",
              "520  GR0400650531  AKBKGB2L  ...           0                            0\n",
              "\n",
              "[5 rows x 8 columns]"
            ]
          },
          "metadata": {
            "tags": []
          },
          "execution_count": 21
        }
      ]
    },
    {
      "cell_type": "code",
      "metadata": {
        "id": "hEs1VKVqWjKw",
        "outputId": "4ab8540f-6634-4ebd-e087-313cc4beb481",
        "colab": {
          "base_uri": "https://localhost:8080/"
        }
      },
      "source": [
        "#Verificando os tipos das variaveis\r\n",
        "df_inv.info()"
      ],
      "execution_count": 24,
      "outputs": [
        {
          "output_type": "stream",
          "text": [
            "<class 'pandas.core.frame.DataFrame'>\n",
            "RangeIndex: 521 entries, 0 to 520\n",
            "Data columns (total 8 columns):\n",
            " #   Column                        Non-Null Count  Dtype \n",
            "---  ------                        --------------  ----- \n",
            " 0   Case number                   521 non-null    object\n",
            " 1   Sender-id                     521 non-null    object\n",
            " 2   Type                          521 non-null    object\n",
            " 3   Total time                    521 non-null    object\n",
            " 4   Time open                     521 non-null    object\n",
            " 5   Time pending                  521 non-null    object\n",
            " 6   Time closed                   521 non-null    object\n",
            " 7   Number of pending iterations  521 non-null    int64 \n",
            "dtypes: int64(1), object(7)\n",
            "memory usage: 32.7+ KB\n"
          ],
          "name": "stdout"
        }
      ]
    },
    {
      "cell_type": "markdown",
      "metadata": {
        "id": "2__FGzciXMDo"
      },
      "source": [
        "#Notei que as variaveis ***Total time, Time open, Time pending e Time closed*** são variaveis numéricas porem foram importadas como object. Vou trasforma-las em numéricas."
      ]
    },
    {
      "cell_type": "code",
      "metadata": {
        "id": "EctX1ktYWjDj"
      },
      "source": [
        "#Selecionando as variaveis as quais devemos transformar em numerico, neste caso flaot64\r\n",
        "cols2 = ['Total time','Time open', 'Time pending','Time closed']"
      ],
      "execution_count": 25,
      "outputs": []
    },
    {
      "cell_type": "code",
      "metadata": {
        "id": "snmFHAyGYY3x"
      },
      "source": [
        "#Como o dataset continha virgulas separando as casas decimais, vamos substitui-las pelo ponto.\r\n",
        "x = 0\r\n",
        "while x < 4:\r\n",
        "    df_inv[cols2[x]] = df_inv[cols2[x]].str.replace(',','.')\r\n",
        "    x+= 1\r\n",
        "df_inv.head()"
      ],
      "execution_count": 30,
      "outputs": []
    },
    {
      "cell_type": "code",
      "metadata": {
        "id": "ChH7Hha2YYy4",
        "outputId": "43d525ba-ebde-46fc-8b01-7081e86a7989",
        "colab": {
          "base_uri": "https://localhost:8080/"
        }
      },
      "source": [
        "#Agora vou converter do tipo object para o tipo float64 as variaveis Total time, Time open, Time pending e Time closed\r\n",
        "x = 0\r\n",
        "while x < 4:\r\n",
        "    df_inv[cols2[x]] = df_inv[cols2[x]].astype(float64)\r\n",
        "    x+= 1\r\n",
        "df_inv.info()"
      ],
      "execution_count": 34,
      "outputs": [
        {
          "output_type": "stream",
          "text": [
            "<class 'pandas.core.frame.DataFrame'>\n",
            "RangeIndex: 521 entries, 0 to 520\n",
            "Data columns (total 8 columns):\n",
            " #   Column                        Non-Null Count  Dtype  \n",
            "---  ------                        --------------  -----  \n",
            " 0   Case number                   521 non-null    object \n",
            " 1   Sender-id                     521 non-null    object \n",
            " 2   Type                          521 non-null    object \n",
            " 3   Total time                    521 non-null    float64\n",
            " 4   Time open                     521 non-null    float64\n",
            " 5   Time pending                  521 non-null    float64\n",
            " 6   Time closed                   521 non-null    float64\n",
            " 7   Number of pending iterations  521 non-null    int64  \n",
            "dtypes: float64(4), int64(1), object(3)\n",
            "memory usage: 32.7+ KB\n"
          ],
          "name": "stdout"
        }
      ]
    },
    {
      "cell_type": "markdown",
      "metadata": {
        "id": "KavmnKbvaQHe"
      },
      "source": [
        "#Qual a média e o desvio padrão para a variavel \"total time\" ?"
      ]
    },
    {
      "cell_type": "code",
      "metadata": {
        "id": "N_pBnk1kcyNe",
        "outputId": "69523972-779c-4da4-f9db-766aefbc1919",
        "colab": {
          "base_uri": "https://localhost:8080/"
        }
      },
      "source": [
        "df_inv[\"Total time\"].describe()"
      ],
      "execution_count": 104,
      "outputs": [
        {
          "output_type": "execute_result",
          "data": {
            "text/plain": [
              "count    521.000000\n",
              "mean       9.422342\n",
              "std       12.660866\n",
              "min        0.000000\n",
              "25%        1.040000\n",
              "50%        4.070000\n",
              "75%       11.850000\n",
              "max       59.800000\n",
              "Name: Total time, dtype: float64"
            ]
          },
          "metadata": {
            "tags": []
          },
          "execution_count": 104
        }
      ]
    },
    {
      "cell_type": "code",
      "metadata": {
        "id": "aaZMZEQQYYwo",
        "outputId": "59b808ac-0966-4d81-ac5c-a6abe9462d19",
        "colab": {
          "base_uri": "https://localhost:8080/"
        }
      },
      "source": [
        "print(f'A média é de: {df_inv[\"Total time\"].describe()[1]}, e o desvio padrão de: {df_inv[\"Total time\"].describe()[2]} ')\r\n",
        "\r\n"
      ],
      "execution_count": 60,
      "outputs": [
        {
          "output_type": "stream",
          "text": [
            "A média é de: 9.422341650671784, e o desvio padrão de: 12.660865593751883 \n"
          ],
          "name": "stdout"
        }
      ]
    },
    {
      "cell_type": "markdown",
      "metadata": {
        "id": "dShUm0ARcl7t"
      },
      "source": [
        "#Quantas recuperações são tradas em até 15 dias?"
      ]
    },
    {
      "cell_type": "code",
      "metadata": {
        "id": "Nc4JnTN1YYuR"
      },
      "source": [
        "tempo15 = df_inv[df_inv[\"Total time\"] <= 15]"
      ],
      "execution_count": 96,
      "outputs": []
    },
    {
      "cell_type": "code",
      "metadata": {
        "id": "NfwNB8OFjy-C",
        "outputId": "fb3db376-ff0c-4ea2-bf8e-478eeb8c4759",
        "colab": {
          "base_uri": "https://localhost:8080/"
        }
      },
      "source": [
        "print(f'Em até 15 dias foram tratas {len(tempo15)} recuperações. Conrespondem a {len(tempo15)/len(df_inv)*100} %')"
      ],
      "execution_count": 120,
      "outputs": [
        {
          "output_type": "stream",
          "text": [
            "Em até 15 dias foram tratas 407 recuperações. Conrespondem a 78.1190019193858 %\n"
          ],
          "name": "stdout"
        }
      ]
    },
    {
      "cell_type": "markdown",
      "metadata": {
        "id": "rmgXHLQekc9I"
      },
      "source": [
        "#A distribuição é simétrica?"
      ]
    },
    {
      "cell_type": "code",
      "metadata": {
        "id": "0oErggJdYYr1",
        "outputId": "aea9410a-45b6-4372-dde0-0411bf240a5a",
        "colab": {
          "base_uri": "https://localhost:8080/",
          "height": 353
        }
      },
      "source": [
        "sns.distplot(tempo15['Time open'])"
      ],
      "execution_count": 100,
      "outputs": [
        {
          "output_type": "stream",
          "text": [
            "/usr/local/lib/python3.6/dist-packages/seaborn/distributions.py:2557: FutureWarning: `distplot` is a deprecated function and will be removed in a future version. Please adapt your code to use either `displot` (a figure-level function with similar flexibility) or `histplot` (an axes-level function for histograms).\n",
            "  warnings.warn(msg, FutureWarning)\n"
          ],
          "name": "stderr"
        },
        {
          "output_type": "execute_result",
          "data": {
            "text/plain": [
              "<matplotlib.axes._subplots.AxesSubplot at 0x7f28099d3320>"
            ]
          },
          "metadata": {
            "tags": []
          },
          "execution_count": 100
        },
        {
          "output_type": "display_data",
          "data": {
            "image/png": "[encoded data removed]",
            "text/plain": [
              "<Figure size 432x288 with 1 Axes>"
            ]
          },
          "metadata": {
            "tags": [],
            "needs_background": "light"
          }
        }
      ]
    },
    {
      "cell_type": "code",
      "metadata": {
        "id": "q3PDa7XoYYpd",
        "outputId": "cc81dd6c-978a-405c-e6fe-4f521e7b4810",
        "colab": {
          "base_uri": "https://localhost:8080/"
        }
      },
      "source": [
        "print(f' Neste caso a distribuição é assimétrica. Há uma alta concentração de dados nos valores mais baixos.\\n A cauda mais longa da distribuição fica à direita, indicando a ocorrência de valores altos com baixa frequência.\\n Esse tipo de distribuição é denominada assimétrica positiva ou à direita,')"
      ],
      "execution_count": 105,
      "outputs": [
        {
          "output_type": "stream",
          "text": [
            " Neste caso a distribuição é assimétrica. Há uma alta concentração de dados nos valores mais baixos.\n",
            " A cauda mais longa da distribuição fica à direita, indicando a ocorrência de valores altos com baixa frequência.\n",
            " Esse tipo de distribuição é denominada assimétrica positiva ou à direita,\n"
          ],
          "name": "stdout"
        }
      ]
    },
    {
      "cell_type": "markdown",
      "metadata": {
        "id": "DLEYEPYzmI_2"
      },
      "source": [
        "#Que tipo de reclamação ocorre com mais frequência?"
      ]
    },
    {
      "cell_type": "code",
      "metadata": {
        "id": "4JDoAirOYYmr",
        "outputId": "61e3ae20-617a-429d-cd8a-21731d7e6996",
        "colab": {
          "base_uri": "https://localhost:8080/",
          "height": 490
        }
      },
      "source": [
        "#Grafico de barras / variavél categórica.\r\n",
        "df_inv.Type.value_counts().plot(kind='bar', figsize=(8, 8))\r\n",
        "plt.show()"
      ],
      "execution_count": 106,
      "outputs": [
        {
          "output_type": "display_data",
          "data": {
            "image/png": "[encoded data removed]",
            "text/plain": [
              "<Figure size 576x576 with 1 Axes>"
            ]
          },
          "metadata": {
            "tags": [],
            "needs_background": "light"
          }
        }
      ]
    },
    {
      "cell_type": "code",
      "metadata": {
        "id": "_vHcitZ5T3CJ",
        "outputId": "71541a66-82aa-405b-9c34-d3cae4e52a71",
        "colab": {
          "base_uri": "https://localhost:8080/"
        }
      },
      "source": [
        "print(f'Com {df_inv[\"Type\"].value_counts().max()} observações, OX é o tipo de reclamação mais frequênte.')"
      ],
      "execution_count": 118,
      "outputs": [
        {
          "output_type": "stream",
          "text": [
            "Com 157 observações, OX é o tipo de reclamação mais frequênte.\n"
          ],
          "name": "stdout"
        }
      ]
    }
  ]
}