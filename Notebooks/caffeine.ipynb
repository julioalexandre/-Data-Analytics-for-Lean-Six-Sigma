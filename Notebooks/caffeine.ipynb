{
 "cells": [
  {
   "cell_type": "code",
   "execution_count": 2,
   "metadata": {},
   "outputs": [
    {
     "name": "stdout",
     "output_type": "stream",
     "text": [
      "Populating the interactive namespace from numpy and matplotlib\n"
     ]
    }
   ],
   "source": [
    "import pandas as pd\n",
    "%matplotlib inline\n",
    "%pylab inline\n",
    "import matplotlib.pyplot as plt\n",
    "import seaborn as sns\n",
    "import random\n",
    "plt.style.use('ggplot')"
   ]
  },
  {
   "cell_type": "code",
   "execution_count": 3,
   "metadata": {},
   "outputs": [],
   "source": [
    "dataset = pd.read_csv('caffeine.csv',sep=';')"
   ]
  },
  {
   "cell_type": "code",
   "execution_count": 4,
   "metadata": {},
   "outputs": [],
   "source": [
    "df = dataset"
   ]
  },
  {
   "cell_type": "code",
   "execution_count": 5,
   "metadata": {},
   "outputs": [
    {
     "data": {
      "text/plain": [
       "Batch nr.    object\n",
       "Caffeine%    object\n",
       "dtype: object"
      ]
     },
     "execution_count": 5,
     "metadata": {},
     "output_type": "execute_result"
    }
   ],
   "source": [
    "dataset.dtypes"
   ]
  },
  {
   "cell_type": "code",
   "execution_count": 5,
   "metadata": {},
   "outputs": [
    {
     "data": {
      "text/html": [
       "<div>\n",
       "<style scoped>\n",
       "    .dataframe tbody tr th:only-of-type {\n",
       "        vertical-align: middle;\n",
       "    }\n",
       "\n",
       "    .dataframe tbody tr th {\n",
       "        vertical-align: top;\n",
       "    }\n",
       "\n",
       "    .dataframe thead th {\n",
       "        text-align: right;\n",
       "    }\n",
       "</style>\n",
       "<table border=\"1\" class=\"dataframe\">\n",
       "  <thead>\n",
       "    <tr style=\"text-align: right;\">\n",
       "      <th></th>\n",
       "      <th>Batch nr.</th>\n",
       "      <th>Caffeine%</th>\n",
       "    </tr>\n",
       "  </thead>\n",
       "  <tbody>\n",
       "    <tr>\n",
       "      <th>count</th>\n",
       "      <td>40</td>\n",
       "      <td>40</td>\n",
       "    </tr>\n",
       "    <tr>\n",
       "      <th>unique</th>\n",
       "      <td>40</td>\n",
       "      <td>31</td>\n",
       "    </tr>\n",
       "    <tr>\n",
       "      <th>top</th>\n",
       "      <td>092002-C401</td>\n",
       "      <td>0,069</td>\n",
       "    </tr>\n",
       "    <tr>\n",
       "      <th>freq</th>\n",
       "      <td>1</td>\n",
       "      <td>4</td>\n",
       "    </tr>\n",
       "  </tbody>\n",
       "</table>\n",
       "</div>"
      ],
      "text/plain": [
       "          Batch nr. Caffeine%\n",
       "count            40        40\n",
       "unique           40        31\n",
       "top     092002-C401     0,069\n",
       "freq              1         4"
      ]
     },
     "execution_count": 5,
     "metadata": {},
     "output_type": "execute_result"
    }
   ],
   "source": [
    "dataset.describe(include='all')"
   ]
  },
  {
   "cell_type": "code",
   "execution_count": 12,
   "metadata": {},
   "outputs": [
    {
     "name": "stdout",
     "output_type": "stream",
     "text": [
      "<class 'pandas.core.frame.DataFrame'>\n",
      "RangeIndex: 40 entries, 0 to 39\n",
      "Data columns (total 2 columns):\n",
      " #   Column     Non-Null Count  Dtype  \n",
      "---  ------     --------------  -----  \n",
      " 0   Batch nr.  40 non-null     object \n",
      " 1   Caffeine%  40 non-null     float64\n",
      "dtypes: float64(1), object(1)\n",
      "memory usage: 768.0+ bytes\n"
     ]
    }
   ],
   "source": [
    "dataset.info()"
   ]
  },
  {
   "cell_type": "code",
   "execution_count": 6,
   "metadata": {},
   "outputs": [],
   "source": [
    "df3 = df"
   ]
  },
  {
   "cell_type": "code",
   "execution_count": 7,
   "metadata": {},
   "outputs": [],
   "source": [
    "#df3['Caffeine%'] = df3['Caffeine%'].str.replace(',', '.')\n",
    "df3['Caffeine%'] = df3['Caffeine%'].apply(lambda x: str(x).replace(\",\",\".\"))\n"
   ]
  },
  {
   "cell_type": "code",
   "execution_count": 8,
   "metadata": {},
   "outputs": [],
   "source": [
    "df3['Caffeine%'] = df3['Caffeine%'].astype(float64)"
   ]
  },
  {
   "cell_type": "code",
   "execution_count": 9,
   "metadata": {},
   "outputs": [
    {
     "name": "stdout",
     "output_type": "stream",
     "text": [
      "Estatistica descritiva         Caffeine%\n",
      "count  40.000000\n",
      "mean    0.083175\n",
      "std     0.016361\n",
      "min     0.044000\n",
      "25%     0.072750\n",
      "50%     0.084500\n",
      "75%     0.094000\n",
      "max     0.118000\n"
     ]
    }
   ],
   "source": [
    "print(f'Estatistica descritiva ', df3.describe())"
   ]
  },
  {
   "cell_type": "code",
   "execution_count": 10,
   "metadata": {},
   "outputs": [
    {
     "data": {
      "text/html": [
       "<div>\n",
       "<style scoped>\n",
       "    .dataframe tbody tr th:only-of-type {\n",
       "        vertical-align: middle;\n",
       "    }\n",
       "\n",
       "    .dataframe tbody tr th {\n",
       "        vertical-align: top;\n",
       "    }\n",
       "\n",
       "    .dataframe thead th {\n",
       "        text-align: right;\n",
       "    }\n",
       "</style>\n",
       "<table border=\"1\" class=\"dataframe\">\n",
       "  <thead>\n",
       "    <tr style=\"text-align: right;\">\n",
       "      <th></th>\n",
       "      <th>count</th>\n",
       "      <th>mean</th>\n",
       "      <th>std</th>\n",
       "      <th>min</th>\n",
       "      <th>25%</th>\n",
       "      <th>50%</th>\n",
       "      <th>75%</th>\n",
       "      <th>max</th>\n",
       "    </tr>\n",
       "  </thead>\n",
       "  <tbody>\n",
       "    <tr>\n",
       "      <th>Caffeine%</th>\n",
       "      <td>40.0</td>\n",
       "      <td>0.083175</td>\n",
       "      <td>0.016361</td>\n",
       "      <td>0.044</td>\n",
       "      <td>0.07275</td>\n",
       "      <td>0.0845</td>\n",
       "      <td>0.094</td>\n",
       "      <td>0.118</td>\n",
       "    </tr>\n",
       "  </tbody>\n",
       "</table>\n",
       "</div>"
      ],
      "text/plain": [
       "           count      mean       std    min      25%     50%    75%    max\n",
       "Caffeine%   40.0  0.083175  0.016361  0.044  0.07275  0.0845  0.094  0.118"
      ]
     },
     "execution_count": 10,
     "metadata": {},
     "output_type": "execute_result"
    }
   ],
   "source": [
    "summary = df3.describe()\n",
    "summary = summary.transpose()\n",
    "summary"
   ]
  },
  {
   "cell_type": "code",
   "execution_count": 11,
   "metadata": {},
   "outputs": [
    {
     "data": {
      "text/plain": [
       "0.08317499999999999"
      ]
     },
     "execution_count": 11,
     "metadata": {},
     "output_type": "execute_result"
    }
   ],
   "source": [
    "df3['Caffeine%'].mean()"
   ]
  },
  {
   "cell_type": "code",
   "execution_count": 12,
   "metadata": {},
   "outputs": [],
   "source": [
    "#investigation\n",
    "data_investigation = pd.read_csv('investigation.csv',sep=';')"
   ]
  },
  {
   "cell_type": "code",
   "execution_count": 13,
   "metadata": {},
   "outputs": [
    {
     "data": {
      "text/plain": [
       "Case number                     object\n",
       "Sender-id                       object\n",
       "Type                            object\n",
       "Total time                      object\n",
       "Time open                       object\n",
       "Time pending                    object\n",
       "Time closed                     object\n",
       "Number of pending iterations     int64\n",
       "dtype: object"
      ]
     },
     "execution_count": 13,
     "metadata": {},
     "output_type": "execute_result"
    }
   ],
   "source": [
    "data_investigation.dtypes"
   ]
  },
  {
   "cell_type": "code",
   "execution_count": 14,
   "metadata": {},
   "outputs": [],
   "source": [
    "df5 = data_investigation"
   ]
  },
  {
   "cell_type": "code",
   "execution_count": 15,
   "metadata": {},
   "outputs": [],
   "source": [
    "df5['Total time'] = df5['Total time'].str.replace(',', '.')\n",
    "df5['Time open'] = df5['Time open'].str.replace(',', '.')\n",
    "df5['Time pending'] = df5['Time pending'].str.replace(',', '.')\n",
    "df5['Time closed'] = df5['Time closed'].str.replace(',', '.')\n"
   ]
  },
  {
   "cell_type": "code",
   "execution_count": 16,
   "metadata": {},
   "outputs": [],
   "source": [
    "df5['Total time'] = df5['Total time'].astype(float)\n",
    "df5['Time open'] = df5['Time open'].astype(float)\n",
    "df5['Time pending'] = df5['Time pending'].astype(float)\n",
    "df5['Time closed'] = df5['Time closed'].astype(float)"
   ]
  },
  {
   "cell_type": "code",
   "execution_count": 17,
   "metadata": {},
   "outputs": [],
   "source": [
    "df5['Number of pending iterations'] = df5['Number of pending iterations'].astype(int)"
   ]
  },
  {
   "cell_type": "code",
   "execution_count": 18,
   "metadata": {},
   "outputs": [
    {
     "data": {
      "text/plain": [
       "Case number                      object\n",
       "Sender-id                        object\n",
       "Type                             object\n",
       "Total time                      float64\n",
       "Time open                       float64\n",
       "Time pending                    float64\n",
       "Time closed                     float64\n",
       "Number of pending iterations      int32\n",
       "dtype: object"
      ]
     },
     "execution_count": 18,
     "metadata": {},
     "output_type": "execute_result"
    }
   ],
   "source": [
    "df5.dtypes"
   ]
  },
  {
   "cell_type": "code",
   "execution_count": 19,
   "metadata": {},
   "outputs": [
    {
     "data": {
      "text/html": [
       "<div>\n",
       "<style scoped>\n",
       "    .dataframe tbody tr th:only-of-type {\n",
       "        vertical-align: middle;\n",
       "    }\n",
       "\n",
       "    .dataframe tbody tr th {\n",
       "        vertical-align: top;\n",
       "    }\n",
       "\n",
       "    .dataframe thead th {\n",
       "        text-align: right;\n",
       "    }\n",
       "</style>\n",
       "<table border=\"1\" class=\"dataframe\">\n",
       "  <thead>\n",
       "    <tr style=\"text-align: right;\">\n",
       "      <th></th>\n",
       "      <th>Case number</th>\n",
       "      <th>Sender-id</th>\n",
       "      <th>Type</th>\n",
       "      <th>Total time</th>\n",
       "      <th>Time open</th>\n",
       "      <th>Time pending</th>\n",
       "      <th>Time closed</th>\n",
       "      <th>Number of pending iterations</th>\n",
       "    </tr>\n",
       "  </thead>\n",
       "  <tbody>\n",
       "    <tr>\n",
       "      <th>0</th>\n",
       "      <td>GR0400250011</td>\n",
       "      <td>BSABESBB</td>\n",
       "      <td>AN</td>\n",
       "      <td>29.73</td>\n",
       "      <td>20.80</td>\n",
       "      <td>8.93</td>\n",
       "      <td>0.00</td>\n",
       "      <td>3</td>\n",
       "    </tr>\n",
       "    <tr>\n",
       "      <th>1</th>\n",
       "      <td>GR0400250015</td>\n",
       "      <td>BDCCANCU</td>\n",
       "      <td>OX</td>\n",
       "      <td>6.83</td>\n",
       "      <td>5.54</td>\n",
       "      <td>1.29</td>\n",
       "      <td>0.00</td>\n",
       "      <td>2</td>\n",
       "    </tr>\n",
       "    <tr>\n",
       "      <th>2</th>\n",
       "      <td>GR0400250022</td>\n",
       "      <td>CITIUS33</td>\n",
       "      <td>NU</td>\n",
       "      <td>6.86</td>\n",
       "      <td>6.86</td>\n",
       "      <td>0.00</td>\n",
       "      <td>0.00</td>\n",
       "      <td>0</td>\n",
       "    </tr>\n",
       "    <tr>\n",
       "      <th>3</th>\n",
       "      <td>GR0400250023</td>\n",
       "      <td>BOFMCAM2</td>\n",
       "      <td>NU</td>\n",
       "      <td>6.93</td>\n",
       "      <td>4.77</td>\n",
       "      <td>2.16</td>\n",
       "      <td>0.00</td>\n",
       "      <td>1</td>\n",
       "    </tr>\n",
       "    <tr>\n",
       "      <th>4</th>\n",
       "      <td>GR0400250024</td>\n",
       "      <td>BFICCUHH</td>\n",
       "      <td>OX</td>\n",
       "      <td>19.81</td>\n",
       "      <td>0.28</td>\n",
       "      <td>19.52</td>\n",
       "      <td>0.00</td>\n",
       "      <td>4</td>\n",
       "    </tr>\n",
       "    <tr>\n",
       "      <th>...</th>\n",
       "      <td>...</td>\n",
       "      <td>...</td>\n",
       "      <td>...</td>\n",
       "      <td>...</td>\n",
       "      <td>...</td>\n",
       "      <td>...</td>\n",
       "      <td>...</td>\n",
       "      <td>...</td>\n",
       "    </tr>\n",
       "    <tr>\n",
       "      <th>516</th>\n",
       "      <td>GR0400650518</td>\n",
       "      <td>CRLYFRPP</td>\n",
       "      <td>DD</td>\n",
       "      <td>0.04</td>\n",
       "      <td>0.04</td>\n",
       "      <td>0.00</td>\n",
       "      <td>0.00</td>\n",
       "      <td>0</td>\n",
       "    </tr>\n",
       "    <tr>\n",
       "      <th>517</th>\n",
       "      <td>GR0400650519</td>\n",
       "      <td>CRLYFRPP</td>\n",
       "      <td>DD</td>\n",
       "      <td>1.04</td>\n",
       "      <td>1.04</td>\n",
       "      <td>0.00</td>\n",
       "      <td>0.00</td>\n",
       "      <td>0</td>\n",
       "    </tr>\n",
       "    <tr>\n",
       "      <th>518</th>\n",
       "      <td>GR0400650520</td>\n",
       "      <td>RBTTSRPA</td>\n",
       "      <td>OX</td>\n",
       "      <td>1.82</td>\n",
       "      <td>0.77</td>\n",
       "      <td>1.05</td>\n",
       "      <td>0.00</td>\n",
       "      <td>1</td>\n",
       "    </tr>\n",
       "    <tr>\n",
       "      <th>519</th>\n",
       "      <td>GR0400650523</td>\n",
       "      <td>TRMEZWHA</td>\n",
       "      <td>WX</td>\n",
       "      <td>2.78</td>\n",
       "      <td>1.46</td>\n",
       "      <td>0.00</td>\n",
       "      <td>1.32</td>\n",
       "      <td>0</td>\n",
       "    </tr>\n",
       "    <tr>\n",
       "      <th>520</th>\n",
       "      <td>GR0400650531</td>\n",
       "      <td>AKBKGB2L</td>\n",
       "      <td>BC</td>\n",
       "      <td>0.00</td>\n",
       "      <td>0.00</td>\n",
       "      <td>0.00</td>\n",
       "      <td>0.00</td>\n",
       "      <td>0</td>\n",
       "    </tr>\n",
       "  </tbody>\n",
       "</table>\n",
       "<p>521 rows × 8 columns</p>\n",
       "</div>"
      ],
      "text/plain": [
       "      Case number Sender-id Type  Total time  Time open  Time pending  \\\n",
       "0    GR0400250011  BSABESBB   AN       29.73      20.80          8.93   \n",
       "1    GR0400250015  BDCCANCU   OX        6.83       5.54          1.29   \n",
       "2    GR0400250022  CITIUS33   NU        6.86       6.86          0.00   \n",
       "3    GR0400250023  BOFMCAM2   NU        6.93       4.77          2.16   \n",
       "4    GR0400250024  BFICCUHH   OX       19.81       0.28         19.52   \n",
       "..            ...       ...  ...         ...        ...           ...   \n",
       "516  GR0400650518  CRLYFRPP   DD        0.04       0.04          0.00   \n",
       "517  GR0400650519  CRLYFRPP   DD        1.04       1.04          0.00   \n",
       "518  GR0400650520  RBTTSRPA   OX        1.82       0.77          1.05   \n",
       "519  GR0400650523  TRMEZWHA   WX        2.78       1.46          0.00   \n",
       "520  GR0400650531  AKBKGB2L   BC        0.00       0.00          0.00   \n",
       "\n",
       "     Time closed  Number of pending iterations  \n",
       "0           0.00                             3  \n",
       "1           0.00                             2  \n",
       "2           0.00                             0  \n",
       "3           0.00                             1  \n",
       "4           0.00                             4  \n",
       "..           ...                           ...  \n",
       "516         0.00                             0  \n",
       "517         0.00                             0  \n",
       "518         0.00                             1  \n",
       "519         1.32                             0  \n",
       "520         0.00                             0  \n",
       "\n",
       "[521 rows x 8 columns]"
      ]
     },
     "execution_count": 19,
     "metadata": {},
     "output_type": "execute_result"
    }
   ],
   "source": [
    "df5"
   ]
  },
  {
   "cell_type": "code",
   "execution_count": 20,
   "metadata": {},
   "outputs": [
    {
     "data": {
      "text/plain": [
       "Case number                      object\n",
       "Sender-id                        object\n",
       "Type                             object\n",
       "Total time                      float64\n",
       "Time open                       float64\n",
       "Time pending                    float64\n",
       "Time closed                     float64\n",
       "Number of pending iterations      int32\n",
       "dtype: object"
      ]
     },
     "execution_count": 20,
     "metadata": {},
     "output_type": "execute_result"
    }
   ],
   "source": [
    "df5.dtypes"
   ]
  },
  {
   "cell_type": "code",
   "execution_count": 21,
   "metadata": {},
   "outputs": [],
   "source": [
    "hist = df3.hist"
   ]
  },
  {
   "cell_type": "code",
   "execution_count": 22,
   "metadata": {},
   "outputs": [
    {
     "data": {
      "text/html": [
       "<div>\n",
       "<style scoped>\n",
       "    .dataframe tbody tr th:only-of-type {\n",
       "        vertical-align: middle;\n",
       "    }\n",
       "\n",
       "    .dataframe tbody tr th {\n",
       "        vertical-align: top;\n",
       "    }\n",
       "\n",
       "    .dataframe thead th {\n",
       "        text-align: right;\n",
       "    }\n",
       "</style>\n",
       "<table border=\"1\" class=\"dataframe\">\n",
       "  <thead>\n",
       "    <tr style=\"text-align: right;\">\n",
       "      <th></th>\n",
       "      <th>Total time</th>\n",
       "      <th>Time open</th>\n",
       "      <th>Time pending</th>\n",
       "      <th>Time closed</th>\n",
       "      <th>Number of pending iterations</th>\n",
       "    </tr>\n",
       "  </thead>\n",
       "  <tbody>\n",
       "    <tr>\n",
       "      <th>count</th>\n",
       "      <td>521.000000</td>\n",
       "      <td>521.000000</td>\n",
       "      <td>521.000000</td>\n",
       "      <td>521.000000</td>\n",
       "      <td>521.000000</td>\n",
       "    </tr>\n",
       "    <tr>\n",
       "      <th>mean</th>\n",
       "      <td>9.422342</td>\n",
       "      <td>2.891420</td>\n",
       "      <td>3.933896</td>\n",
       "      <td>2.597025</td>\n",
       "      <td>1.282150</td>\n",
       "    </tr>\n",
       "    <tr>\n",
       "      <th>std</th>\n",
       "      <td>12.660866</td>\n",
       "      <td>3.076626</td>\n",
       "      <td>8.025397</td>\n",
       "      <td>7.346299</td>\n",
       "      <td>2.010321</td>\n",
       "    </tr>\n",
       "    <tr>\n",
       "      <th>min</th>\n",
       "      <td>0.000000</td>\n",
       "      <td>0.000000</td>\n",
       "      <td>0.000000</td>\n",
       "      <td>0.000000</td>\n",
       "      <td>0.000000</td>\n",
       "    </tr>\n",
       "    <tr>\n",
       "      <th>25%</th>\n",
       "      <td>1.040000</td>\n",
       "      <td>0.700000</td>\n",
       "      <td>0.000000</td>\n",
       "      <td>0.000000</td>\n",
       "      <td>0.000000</td>\n",
       "    </tr>\n",
       "    <tr>\n",
       "      <th>50%</th>\n",
       "      <td>4.070000</td>\n",
       "      <td>2.100000</td>\n",
       "      <td>0.000000</td>\n",
       "      <td>0.000000</td>\n",
       "      <td>0.000000</td>\n",
       "    </tr>\n",
       "    <tr>\n",
       "      <th>75%</th>\n",
       "      <td>11.850000</td>\n",
       "      <td>4.250000</td>\n",
       "      <td>4.770000</td>\n",
       "      <td>0.050000</td>\n",
       "      <td>2.000000</td>\n",
       "    </tr>\n",
       "    <tr>\n",
       "      <th>max</th>\n",
       "      <td>59.800000</td>\n",
       "      <td>23.390000</td>\n",
       "      <td>55.790000</td>\n",
       "      <td>50.100000</td>\n",
       "      <td>8.000000</td>\n",
       "    </tr>\n",
       "  </tbody>\n",
       "</table>\n",
       "</div>"
      ],
      "text/plain": [
       "       Total time   Time open  Time pending  Time closed  \\\n",
       "count  521.000000  521.000000    521.000000   521.000000   \n",
       "mean     9.422342    2.891420      3.933896     2.597025   \n",
       "std     12.660866    3.076626      8.025397     7.346299   \n",
       "min      0.000000    0.000000      0.000000     0.000000   \n",
       "25%      1.040000    0.700000      0.000000     0.000000   \n",
       "50%      4.070000    2.100000      0.000000     0.000000   \n",
       "75%     11.850000    4.250000      4.770000     0.050000   \n",
       "max     59.800000   23.390000     55.790000    50.100000   \n",
       "\n",
       "       Number of pending iterations  \n",
       "count                    521.000000  \n",
       "mean                       1.282150  \n",
       "std                        2.010321  \n",
       "min                        0.000000  \n",
       "25%                        0.000000  \n",
       "50%                        0.000000  \n",
       "75%                        2.000000  \n",
       "max                        8.000000  "
      ]
     },
     "execution_count": 22,
     "metadata": {},
     "output_type": "execute_result"
    }
   ],
   "source": [
    "df5.describe()"
   ]
  },
  {
   "cell_type": "code",
   "execution_count": 23,
   "metadata": {},
   "outputs": [
    {
     "data": {
      "image/png": "[encoded data removed]",
      "text/plain": [
       "<Figure size 864x576 with 1 Axes>"
      ]
     },
     "metadata": {},
     "output_type": "display_data"
    }
   ],
   "source": [
    "df5['Total time'].plot(kind='hist', figsize=(12, 8))\n",
    "\n",
    "plt.title('Histogram of Immigration from 195 Countries in 2013') # add a title to the histogram\n",
    "plt.ylabel('Number of Countries') # add y-label\n",
    "plt.xlabel('Number of Immigrants') # add x-label\n",
    "\n",
    "plt.show()"
   ]
  },
  {
   "cell_type": "code",
   "execution_count": 24,
   "metadata": {},
   "outputs": [
    {
     "data": {
      "image/png": "[encoded data removed]",
      "text/plain": [
       "<Figure size 576x360 with 1 Axes>"
      ]
     },
     "metadata": {},
     "output_type": "display_data"
    }
   ],
   "source": [
    "count, bin_edges = np.histogram(df5['Total time'])\n",
    "\n",
    "df5['Total time'].plot(kind='hist', figsize=(8, 5), xticks=bin_edges)\n",
    "\n",
    "plt.title('Histogram of Immigration from 195 countries in 2013') # add a title to the histogram\n",
    "plt.ylabel('Number of Countries') # add y-label\n",
    "plt.xlabel('Number of Immigrants') # add x-label\n",
    "\n",
    "plt.show()"
   ]
  },
  {
   "cell_type": "code",
   "execution_count": 31,
   "metadata": {},
   "outputs": [
    {
     "data": {
      "text/plain": [
       "0      3\n",
       "1      2\n",
       "2      0\n",
       "3      1\n",
       "4      4\n",
       "      ..\n",
       "516    0\n",
       "517    0\n",
       "518    1\n",
       "519    0\n",
       "520    0\n",
       "Name: Number of pending iterations, Length: 521, dtype: int32"
      ]
     },
     "execution_count": 31,
     "metadata": {},
     "output_type": "execute_result"
    }
   ],
   "source": [
    "df5['Number of pending iterations'].boxplot(grid=True, figsize= (10,8))"
   ]
  },
  {
   "cell_type": "code",
   "execution_count": 40,
   "metadata": {},
   "outputs": [
    {
     "data": {
      "text/plain": [
       "<matplotlib.axes._subplots.AxesSubplot at 0x1a9402ad7c0>"
      ]
     },
     "execution_count": 40,
     "metadata": {},
     "output_type": "execute_result"
    },
    {
     "data": {
      "image/png": "[encoded data removed]",
      "text/plain": [
       "<Figure size 576x864 with 1 Axes>"
      ]
     },
     "metadata": {},
     "output_type": "display_data"
    }
   ],
   "source": [
    "df5['Total time'].plot(kind='box', figsize=(8, 12) )\n"
   ]
  },
  {
   "cell_type": "code",
   "execution_count": 33,
   "metadata": {},
   "outputs": [
    {
     "data": {
      "text/html": [
       "<div>\n",
       "<style scoped>\n",
       "    .dataframe tbody tr th:only-of-type {\n",
       "        vertical-align: middle;\n",
       "    }\n",
       "\n",
       "    .dataframe tbody tr th {\n",
       "        vertical-align: top;\n",
       "    }\n",
       "\n",
       "    .dataframe thead th {\n",
       "        text-align: right;\n",
       "    }\n",
       "</style>\n",
       "<table border=\"1\" class=\"dataframe\">\n",
       "  <thead>\n",
       "    <tr style=\"text-align: right;\">\n",
       "      <th></th>\n",
       "      <th>Case number</th>\n",
       "      <th>Sender-id</th>\n",
       "      <th>Type</th>\n",
       "      <th>Total time</th>\n",
       "      <th>Time open</th>\n",
       "      <th>Time pending</th>\n",
       "      <th>Time closed</th>\n",
       "      <th>Number of pending iterations</th>\n",
       "    </tr>\n",
       "  </thead>\n",
       "  <tbody>\n",
       "    <tr>\n",
       "      <th>0</th>\n",
       "      <td>GR0400250011</td>\n",
       "      <td>BSABESBB</td>\n",
       "      <td>AN</td>\n",
       "      <td>29.73</td>\n",
       "      <td>20.80</td>\n",
       "      <td>8.93</td>\n",
       "      <td>0.00</td>\n",
       "      <td>3</td>\n",
       "    </tr>\n",
       "    <tr>\n",
       "      <th>1</th>\n",
       "      <td>GR0400250015</td>\n",
       "      <td>BDCCANCU</td>\n",
       "      <td>OX</td>\n",
       "      <td>6.83</td>\n",
       "      <td>5.54</td>\n",
       "      <td>1.29</td>\n",
       "      <td>0.00</td>\n",
       "      <td>2</td>\n",
       "    </tr>\n",
       "    <tr>\n",
       "      <th>2</th>\n",
       "      <td>GR0400250022</td>\n",
       "      <td>CITIUS33</td>\n",
       "      <td>NU</td>\n",
       "      <td>6.86</td>\n",
       "      <td>6.86</td>\n",
       "      <td>0.00</td>\n",
       "      <td>0.00</td>\n",
       "      <td>0</td>\n",
       "    </tr>\n",
       "    <tr>\n",
       "      <th>3</th>\n",
       "      <td>GR0400250023</td>\n",
       "      <td>BOFMCAM2</td>\n",
       "      <td>NU</td>\n",
       "      <td>6.93</td>\n",
       "      <td>4.77</td>\n",
       "      <td>2.16</td>\n",
       "      <td>0.00</td>\n",
       "      <td>1</td>\n",
       "    </tr>\n",
       "    <tr>\n",
       "      <th>4</th>\n",
       "      <td>GR0400250024</td>\n",
       "      <td>BFICCUHH</td>\n",
       "      <td>OX</td>\n",
       "      <td>19.81</td>\n",
       "      <td>0.28</td>\n",
       "      <td>19.52</td>\n",
       "      <td>0.00</td>\n",
       "      <td>4</td>\n",
       "    </tr>\n",
       "    <tr>\n",
       "      <th>...</th>\n",
       "      <td>...</td>\n",
       "      <td>...</td>\n",
       "      <td>...</td>\n",
       "      <td>...</td>\n",
       "      <td>...</td>\n",
       "      <td>...</td>\n",
       "      <td>...</td>\n",
       "      <td>...</td>\n",
       "    </tr>\n",
       "    <tr>\n",
       "      <th>516</th>\n",
       "      <td>GR0400650518</td>\n",
       "      <td>CRLYFRPP</td>\n",
       "      <td>DD</td>\n",
       "      <td>0.04</td>\n",
       "      <td>0.04</td>\n",
       "      <td>0.00</td>\n",
       "      <td>0.00</td>\n",
       "      <td>0</td>\n",
       "    </tr>\n",
       "    <tr>\n",
       "      <th>517</th>\n",
       "      <td>GR0400650519</td>\n",
       "      <td>CRLYFRPP</td>\n",
       "      <td>DD</td>\n",
       "      <td>1.04</td>\n",
       "      <td>1.04</td>\n",
       "      <td>0.00</td>\n",
       "      <td>0.00</td>\n",
       "      <td>0</td>\n",
       "    </tr>\n",
       "    <tr>\n",
       "      <th>518</th>\n",
       "      <td>GR0400650520</td>\n",
       "      <td>RBTTSRPA</td>\n",
       "      <td>OX</td>\n",
       "      <td>1.82</td>\n",
       "      <td>0.77</td>\n",
       "      <td>1.05</td>\n",
       "      <td>0.00</td>\n",
       "      <td>1</td>\n",
       "    </tr>\n",
       "    <tr>\n",
       "      <th>519</th>\n",
       "      <td>GR0400650523</td>\n",
       "      <td>TRMEZWHA</td>\n",
       "      <td>WX</td>\n",
       "      <td>2.78</td>\n",
       "      <td>1.46</td>\n",
       "      <td>0.00</td>\n",
       "      <td>1.32</td>\n",
       "      <td>0</td>\n",
       "    </tr>\n",
       "    <tr>\n",
       "      <th>520</th>\n",
       "      <td>GR0400650531</td>\n",
       "      <td>AKBKGB2L</td>\n",
       "      <td>BC</td>\n",
       "      <td>0.00</td>\n",
       "      <td>0.00</td>\n",
       "      <td>0.00</td>\n",
       "      <td>0.00</td>\n",
       "      <td>0</td>\n",
       "    </tr>\n",
       "  </tbody>\n",
       "</table>\n",
       "<p>521 rows × 8 columns</p>\n",
       "</div>"
      ],
      "text/plain": [
       "      Case number Sender-id Type  Total time  Time open  Time pending  \\\n",
       "0    GR0400250011  BSABESBB   AN       29.73      20.80          8.93   \n",
       "1    GR0400250015  BDCCANCU   OX        6.83       5.54          1.29   \n",
       "2    GR0400250022  CITIUS33   NU        6.86       6.86          0.00   \n",
       "3    GR0400250023  BOFMCAM2   NU        6.93       4.77          2.16   \n",
       "4    GR0400250024  BFICCUHH   OX       19.81       0.28         19.52   \n",
       "..            ...       ...  ...         ...        ...           ...   \n",
       "516  GR0400650518  CRLYFRPP   DD        0.04       0.04          0.00   \n",
       "517  GR0400650519  CRLYFRPP   DD        1.04       1.04          0.00   \n",
       "518  GR0400650520  RBTTSRPA   OX        1.82       0.77          1.05   \n",
       "519  GR0400650523  TRMEZWHA   WX        2.78       1.46          0.00   \n",
       "520  GR0400650531  AKBKGB2L   BC        0.00       0.00          0.00   \n",
       "\n",
       "     Time closed  Number of pending iterations  \n",
       "0           0.00                             3  \n",
       "1           0.00                             2  \n",
       "2           0.00                             0  \n",
       "3           0.00                             1  \n",
       "4           0.00                             4  \n",
       "..           ...                           ...  \n",
       "516         0.00                             0  \n",
       "517         0.00                             0  \n",
       "518         0.00                             1  \n",
       "519         1.32                             0  \n",
       "520         0.00                             0  \n",
       "\n",
       "[521 rows x 8 columns]"
      ]
     },
     "execution_count": 33,
     "metadata": {},
     "output_type": "execute_result"
    }
   ],
   "source": [
    "df5"
   ]
  },
  {
   "cell_type": "code",
   "execution_count": null,
   "metadata": {},
   "outputs": [],
   "source": []
  }
 ],
 "metadata": {
  "kernelspec": {
   "display_name": "Python 3",
   "language": "python",
   "name": "python3"
  },
  "language_info": {
   "codemirror_mode": {
    "name": "ipython",
    "version": 3
   },
   "file_extension": ".py",
   "mimetype": "text/x-python",
   "name": "python",
   "nbconvert_exporter": "python",
   "pygments_lexer": "ipython3",
   "version": "3.8.3"
  }
 },
 "nbformat": 4,
 "nbformat_minor": 4
}
